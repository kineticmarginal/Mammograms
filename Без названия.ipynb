{
 "cells": [
  {
   "cell_type": "code",
   "execution_count": 6,
   "metadata": {},
   "outputs": [],
   "source": [
    "import json\n",
    "\n",
    "import pandas as pd\n",
    "import numpy as np\n",
    "from tqdm import tqdm\n",
    "from sklearn.model_selection import StratifiedKFold, train_test_split, KFold\n",
    "from sklearn.ensemble import RandomForestClassifier, ExtraTreesClassifier, GradientBoostingClassifier\n",
    "from sklearn.svm import SVC\n",
    "import matplotlib.pyplot as plt\n",
    "\n",
    "from imblearn.over_sampling import SMOTE, RandomOverSampler\n",
    "\n",
    "from catboost import CatBoostClassifier, CatBoostRegressor\n",
    "from soreva_metrics import calculate_metrics, macro_averaged_mean_absolute_error"
   ]
  },
  {
   "cell_type": "code",
   "execution_count": 7,
   "metadata": {},
   "outputs": [],
   "source": [
    "symps = [\n",
    "         'artifact',\n",
    "         'calcified cyst',\n",
    "         'calcified vessels',\n",
    "         'calcinates_benign',\n",
    "         'calcinates_malignant',\n",
    "         'fibrocystic_breast_changes',\n",
    "         'lymphonodus',\n",
    "         'mass_benign',\n",
    "         'mass_malignant',\n",
    "         'nipple',\n",
    "         'papilloma',\n",
    "         'pectoral muscle',\n",
    "         'skin_thickening',\n",
    "         'other'\n",
    "        ]"
   ]
  },
  {
   "cell_type": "code",
   "execution_count": 8,
   "metadata": {},
   "outputs": [],
   "source": [
    "def extract_basic_features(breast):\n",
    "    \n",
    "    predictors = {}\n",
    "\n",
    "    \n",
    "# ---------------------------------\n",
    "# Every model and view\n",
    "\n",
    "\n",
    "    for key in ['patient_id', 'laterality', 'tissue_density_predicted', 'cancer_probability_predicted']:\n",
    "        predictors[key] = breast[key]\n",
    "    \n",
    "    for view in [\"CC\", \"MLO\"]:\n",
    "        for modl in [1, 2, 3]:\n",
    "            for symp in symps:\n",
    "                for agg in ['min', 'max', 'mean', 'median', 'sum', 'count']:\n",
    "                    predictors[view+'_'+str(modl)+'_'+symp+'_'+agg] = 0.0\n",
    "                    \n",
    "    for view in [\"CC\", \"MLO\"]:\n",
    "        for modl in [1, 2, 3]:\n",
    "            for symp in symps:\n",
    "                for agg in ['min', 'max', 'mean', 'median', 'sum']:\n",
    "                    predictors['square_'+view+'_'+str(modl)+'_'+symp+'_'+agg] = 0.0\n",
    "                    \n",
    "    for view in [\"CC\", \"MLO\"]:\n",
    "        for modl in [1, 2, 3]:\n",
    "            for symp in symps:\n",
    "                for agg in ['min', 'max', 'mean', 'median', 'sum']:\n",
    "                    predictors['prob_square_'+view+'_'+str(modl)+'_'+symp+'_'+agg] = 0.0\n",
    "                    \n",
    "#     for view in [\"CC\", \"MLO\"]:\n",
    "#         for modl in [1, 2, 3]:\n",
    "#             for symp in symps:\n",
    "#                 for agg in ['min', 'max', 'mean', 'median']:\n",
    "#                     predictors['xx_'+view+'_'+str(modl)+'_'+symp+'_'+agg] = 0.0\n",
    "#                     predictors['yy_'+view+'_'+str(modl)+'_'+symp+'_'+agg] = 0.0\n",
    "\n",
    "                \n",
    "    for view in [\"CC\", \"MLO\"]:\n",
    "        \n",
    "        for modl in [1, 2, 3]:\n",
    "        \n",
    "            for symp in symps:\n",
    "            \n",
    "                objs_probs = [obj['probability'] for obj in breast[view] if symp in obj['object_type'] \n",
    "                              and obj['model_number'] == modl]\n",
    "                \n",
    "                objs_coords = [obj['coordinates'] for obj in breast[view] if symp in obj[\"object_type\"]\n",
    "                               and obj['model_number'] == modl]\n",
    "            \n",
    "                if objs_probs:\n",
    "                    \n",
    "                    predictors[view+'_'+str(modl)+'_'+symp+'_min'] = np.min(objs_probs)\n",
    "                    predictors[view+'_'+str(modl)+'_'+symp+'_max'] = np.max(objs_probs)\n",
    "                    predictors[view+'_'+str(modl)+'_'+symp+'_mean'] = np.mean(objs_probs)\n",
    "                    predictors[view+'_'+str(modl)+'_'+symp+'_median'] = np.median(objs_probs)\n",
    "                    predictors[view+'_'+str(modl)+'_'+symp+'_sum'] = np.sum(objs_probs)\n",
    "                    predictors[view+'_'+str(modl)+'_'+symp+'_count'] = len(objs_probs)\n",
    "                    \n",
    "                    objs_squares = [(cord[2] - cord[0])*(cord[3] - cord[1]) for cord in objs_coords]\n",
    "                    \n",
    "                    predictors['square_'+view+'_'+str(modl)+'_'+symp+'_min'] = np.min(objs_squares)\n",
    "                    predictors['square_'+view+'_'+str(modl)+'_'+symp+'_max'] = np.max(objs_squares)\n",
    "                    predictors['square_'+view+'_'+str(modl)+'_'+symp+'_mean'] = np.mean(objs_squares)\n",
    "                    predictors['square_'+view+'_'+str(modl)+'_'+symp+'_median'] = np.median(objs_squares)\n",
    "                    predictors['square_'+view+'_'+str(modl)+'_'+symp+'_sum'] = np.sum(objs_squares)\n",
    "                    \n",
    "                    objs_probs_squares = [sq*prob for sq, prob in zip(objs_squares, objs_probs)]\n",
    "                    \n",
    "                    predictors['prob_square_'+view+'_'+str(modl)+'_'+symp+'_min'] = np.min(objs_probs_squares)\n",
    "                    predictors['prob_square_'+view+'_'+str(modl)+'_'+symp+'_max'] = np.max(objs_probs_squares)\n",
    "                    predictors['prob_square_'+view+'_'+str(modl)+'_'+symp+'_mean'] = np.mean(objs_probs_squares)\n",
    "                    predictors['prob_square_'+view+'_'+str(modl)+'_'+symp+'_median'] = np.median(objs_probs_squares)\n",
    "                    predictors['prob_square_'+view+'_'+str(modl)+'_'+symp+'_sum'] = np.sum(objs_probs_squares)\n",
    "                    \n",
    "#                     objs_xx = [(cord[2] + cord[0]) / 2 for cord in objs_coords]\n",
    "                    \n",
    "#                     predictors['xx_'+view+'_'+str(modl)+'_'+symp+'_min'] = np.min(objs_xx)\n",
    "#                     predictors['xx_'+view+'_'+str(modl)+'_'+symp+'_max'] = np.max(objs_xx)\n",
    "#                     predictors['xx_'+view+'_'+str(modl)+'_'+symp+'_mean'] = np.mean(objs_xx)\n",
    "#                     predictors['xx_'+view+'_'+str(modl)+'_'+symp+'_median'] = np.median(objs_xx)\n",
    "                    \n",
    "#                     objs_yy = [(cord[3] + cord[1]) / 2 for cord in objs_coords]\n",
    "                    \n",
    "#                     predictors['yy_'+view+'_'+str(modl)+'_'+symp+'_min'] = np.min(objs_yy)\n",
    "#                     predictors['yy_'+view+'_'+str(modl)+'_'+symp+'_max'] = np.max(objs_yy)\n",
    "#                     predictors['yy_'+view+'_'+str(modl)+'_'+symp+'_mean'] = np.mean(objs_yy)\n",
    "#                     predictors['yy_'+view+'_'+str(modl)+'_'+symp+'_median'] = np.median(objs_yy)\n",
    "  \n",
    "    \n",
    "# ----------------------------------\n",
    "# All models\n",
    "\n",
    "\n",
    "#     for view in [\"CC\", \"MLO\"]:\n",
    "#         for symp in symps:\n",
    "#             for agg in ['min', 'max', 'mean', 'median', 'sum', 'count']:\n",
    "#                 predictors[view+'_'+symp+'_'+agg] = 0.0\n",
    "                \n",
    "#     for view in [\"CC\", \"MLO\"]:\n",
    "#         for symp in symps:\n",
    "#             for agg in ['min', 'max', 'mean', 'median']:\n",
    "#                 predictors['square_'+view+'_'+symp+'_'+agg] = 0.0\n",
    "                    \n",
    "#     for view in [\"CC\", \"MLO\"]:\n",
    "#         for symp in symps:\n",
    "#             for agg in ['min', 'max', 'mean', 'median', 'sum']:\n",
    "#                 predictors['prob_square_'+view+'_'+symp+'_'+agg] = 0.0\n",
    "                    \n",
    "#     for view in [\"CC\", \"MLO\"]:\n",
    "#         for symp in symps:\n",
    "#             for agg in ['min', 'max', 'mean', 'median']:\n",
    "#                 predictors['xx_'+view+'_'+symp+'_'+agg] = 0.0\n",
    "#                 predictors['yy_'+view+'_'+symp+'_'+agg] = 0.0\n",
    "                \n",
    "#     for view in [\"CC\", \"MLO\"]:\n",
    "        \n",
    "#         for symp in symps:\n",
    "        \n",
    "#             objs_probs = [obj['probability'] for obj in breast[view] if symp in obj['object_type']]\n",
    "            \n",
    "#             objs_coords = [obj['coordinates'] for obj in breast[view] if symp in obj[\"object_type\"]]\n",
    "        \n",
    "#             if objs_probs:\n",
    "                \n",
    "#                 predictors[view+'_'+symp+'_min'] = np.min(objs_probs)\n",
    "#                 predictors[view+'_'+symp+'_max'] = np.max(objs_probs)\n",
    "#                 predictors[view+'_'+symp+'_mean'] = np.mean(objs_probs)\n",
    "#                 predictors[view+'_'+symp+'_median'] = np.median(objs_probs)\n",
    "#                 predictors[view+'_'+symp+'_sum'] = np.sum(objs_probs)\n",
    "#                 predictors[view+'_'+symp+'_count'] = len(objs_probs)\n",
    "                \n",
    "#                 objs_squares = [(cord[2] - cord[0])*(cord[3] - cord[1]) for cord in objs_coords]\n",
    "                \n",
    "#                 predictors['square_'+view+'_'+symp+'_min'] = np.min(objs_squares)\n",
    "#                 predictors['square_'+view+'_'+symp+'_max'] = np.max(objs_squares)\n",
    "#                 predictors['square_'+view+'_'+symp+'_mean'] = np.mean(objs_squares)\n",
    "#                 predictors['square_'+view+'_'+symp+'_median'] = np.median(objs_squares)\n",
    "                \n",
    "#                 objs_probs_squares = [cord*prob for cord, prob in zip(objs_squares, objs_probs)]\n",
    "                \n",
    "#                 predictors['prob_square_'+view+'_'+symp+'_min'] = np.min(objs_probs_squares)\n",
    "#                 predictors['prob_square_'+view+'_'+symp+'_max'] = np.max(objs_probs_squares)\n",
    "#                 predictors['prob_square_'+view+'_'+symp+'_mean'] = np.mean(objs_probs_squares)\n",
    "#                 predictors['prob_square_'+view+'_'+symp+'_median'] = np.median(objs_probs_squares)\n",
    "#                 predictors['prob_square_'+view+'_'+symp+'_sum'] = np.sum(objs_probs_squares)\n",
    "                \n",
    "#                 objs_xx = [(cord[2] + cord[0]) / 2 for cord in objs_coords]\n",
    "                \n",
    "#                 predictors['xx_'+view+'_'+symp+'_min'] = np.min(objs_xx)\n",
    "#                 predictors['xx_'+view+'_'+symp+'_max'] = np.max(objs_xx)\n",
    "#                 predictors['xx_'+view+'_'+symp+'_mean'] = np.mean(objs_xx)\n",
    "#                 predictors['xx_'+view+'_'+symp+'_median'] = np.median(objs_xx)\n",
    "                \n",
    "#                 objs_yy = [(cord[3] + cord[1]) / 2 for cord in objs_coords]\n",
    "                \n",
    "#                 predictors['yy_'+view+'_'+symp+'_min'] = np.min(objs_yy)\n",
    "#                 predictors['yy_'+view+'_'+symp+'_max'] = np.max(objs_yy)\n",
    "#                 predictors['yy_'+view+'_'+symp+'_mean'] = np.mean(objs_yy)\n",
    "#                 predictors['yy_'+view+'_'+symp+'_median'] = np.median(objs_yy)\n",
    "\n",
    "                \n",
    "# ----------------------------------\n",
    "# All models and views\n",
    "\n",
    "\n",
    "#     for symp in symps:\n",
    "#         for agg in ['min', 'max', 'mean', 'median', 'sum', 'count']:\n",
    "#             predictors[symp+'_'+agg] = 0.0\n",
    "                \n",
    "#     for symp in symps:\n",
    "#         for agg in ['min', 'max', 'mean', 'median']:\n",
    "#             predictors['square_'+symp+'_'+agg] = 0.0\n",
    "                    \n",
    "#     for symp in symps:\n",
    "#         for agg in ['min', 'max', 'mean', 'median', 'sum']:\n",
    "#             predictors['prob_square_'+symp+'_'+agg] = 0.0\n",
    "                    \n",
    "#     for symp in symps:\n",
    "#         for agg in ['min', 'max', 'mean', 'median']:\n",
    "#             predictors['xx_'+symp+'_'+agg] = 0.0\n",
    "#             predictors['yy_'+symp+'_'+agg] = 0.0\n",
    "        \n",
    "#     for symp in symps:\n",
    "        \n",
    "#         objs_probs = [obj['probability'] for obj in breast['CC'] if symp in obj['object_type']]\n",
    "#         [objs_probs.append(obj['probability']) for obj in breast['MLO'] if symp in obj['object_type']]\n",
    "        \n",
    "#         objs_coords = [obj['coordinates'] for obj in breast['CC'] if symp in obj['object_type']]\n",
    "#         [objs_coords.append(obj['coordinates']) for obj in breast['MLO'] if symp in obj['object_type']]\n",
    "    \n",
    "#         if objs_probs:\n",
    "            \n",
    "#             predictors[symp+'_min'] = np.min(objs_probs)\n",
    "#             predictors[symp+'_max'] = np.max(objs_probs)\n",
    "#             predictors[symp+'_mean'] = np.mean(objs_probs)\n",
    "#             predictors[symp+'_median'] = np.median(objs_probs)\n",
    "#             predictors[symp+'_sum'] = np.sum(objs_probs)\n",
    "#             predictors[symp+'_count'] = len(objs_probs)\n",
    "            \n",
    "#             objs_squares = [(cord[2] - cord[0])*(cord[3] - cord[1]) for cord in objs_coords]\n",
    "            \n",
    "#             predictors['square_'+symp+'_min'] = np.min(objs_squares)\n",
    "#             predictors['square_'+symp+'_max'] = np.max(objs_squares)\n",
    "#             predictors['square_'+symp+'_mean'] = np.mean(objs_squares)\n",
    "#             predictors['square_'+symp+'_median'] = np.median(objs_squares)\n",
    "            \n",
    "#             objs_probs_squares = [cord*prob for cord, prob in zip(objs_squares, objs_probs)]\n",
    "            \n",
    "#             predictors['prob_square_'+symp+'_min'] = np.min(objs_probs_squares)\n",
    "#             predictors['prob_square_'+symp+'_max'] = np.max(objs_probs_squares)\n",
    "#             predictors['prob_square_'+symp+'_mean'] = np.mean(objs_probs_squares)\n",
    "#             predictors['prob_square_'+symp+'_median'] = np.median(objs_probs_squares)\n",
    "#             predictors['prob_square_'+symp+'_sum'] = np.sum(objs_probs_squares)\n",
    "            \n",
    "#             objs_xx = [(cord[2] + cord[0]) / 2 for cord in objs_coords]\n",
    "            \n",
    "#             predictors['xx_'+symp+'_min'] = np.min(objs_xx)\n",
    "#             predictors['xx_'+symp+'_max'] = np.max(objs_xx)\n",
    "#             predictors['xx_'+symp+'_mean'] = np.mean(objs_xx)\n",
    "#             predictors['xx_'+symp+'_median'] = np.median(objs_xx)\n",
    "            \n",
    "#             objs_yy = [(cord[3] + cord[1]) / 2 for cord in objs_coords]\n",
    "            \n",
    "#             predictors['yy_'+symp+'_min'] = np.min(objs_yy)\n",
    "#             predictors['yy_'+symp+'_max'] = np.max(objs_yy)\n",
    "#             predictors['yy_'+symp+'_mean'] = np.mean(objs_yy)\n",
    "#             predictors['yy_'+symp+'_median'] = np.median(objs_yy)\n",
    "\n",
    "                \n",
    "# ----------------------------------\n",
    "# All models and views and symps\n",
    "\n",
    "\n",
    "#     for agg in ['min', 'max', 'mean', 'median', 'sum', 'count']:\n",
    "#         predictors[agg] = 0.0\n",
    "                \n",
    "#     for agg in ['min', 'max', 'mean', 'median']:\n",
    "#         predictors['square_'+agg] = 0.0\n",
    "                    \n",
    "#     for agg in ['min', 'max', 'mean', 'median', 'sum']:\n",
    "#         predictors['prob_square_'+agg] = 0.0\n",
    "        \n",
    "#     objs_probs = [obj['probability'] for obj in breast['CC']]\n",
    "#     [objs_probs.append(obj['probability']) for obj in breast['MLO']]\n",
    "    \n",
    "#     objs_coords = [obj['coordinates'] for obj in breast['CC']]\n",
    "#     [objs_coords.append(obj['coordinates']) for obj in breast['MLO']]\n",
    "    \n",
    "#     if objs_probs:\n",
    "        \n",
    "#         predictors['min'] = np.min(objs_probs)\n",
    "#         predictors['max'] = np.max(objs_probs)\n",
    "#         predictors['mean'] = np.mean(objs_probs)\n",
    "#         predictors['median'] = np.median(objs_probs)\n",
    "#         predictors['sum'] = np.sum(objs_probs)\n",
    "#         predictors['count'] = len(objs_probs)\n",
    "        \n",
    "#         objs_squares = [(cord[2] - cord[0])*(cord[3] - cord[1]) for cord in objs_coords]\n",
    "        \n",
    "#         predictors['square_'+'min'] = np.min(objs_squares)\n",
    "#         predictors['square_'+'max'] = np.max(objs_squares)\n",
    "#         predictors['square_'+'mean'] = np.mean(objs_squares)\n",
    "#         predictors['square_'+'median'] = np.median(objs_squares)\n",
    "        \n",
    "#         objs_probs_squares = [cord*prob for cord, prob in zip(objs_squares, objs_probs)]\n",
    "        \n",
    "#         predictors['prob_square_'+'min'] = np.min(objs_probs_squares)\n",
    "#         predictors['prob_square_'+'max'] = np.max(objs_probs_squares)\n",
    "#         predictors['prob_square_'+'mean'] = np.mean(objs_probs_squares)\n",
    "#         predictors['prob_square_'+'median'] = np.median(objs_probs_squares)\n",
    "#         predictors['prob_square_'+'sum'] = np.sum(objs_probs_squares)\n",
    "        \n",
    "    return predictors"
   ]
  },
  {
   "cell_type": "code",
   "execution_count": 9,
   "metadata": {},
   "outputs": [
    {
     "name": "stderr",
     "output_type": "stream",
     "text": [
      "100%|██████████████████████████████████████| 4063/4063 [00:18<00:00, 223.99it/s]\n"
     ]
    }
   ],
   "source": [
    "with open(\"data_train/data_train.json\", \"r\") as fin:\n",
    "    data_train = json.load(fin)\n",
    "\n",
    "targets_train = pd.read_csv(\"data_train/targets_train.csv\", index_col=0)\n",
    "\n",
    "predictors = {}\n",
    "for key, value in tqdm(data_train.items()):\n",
    "    predictors[key] = extract_basic_features(value)\n",
    "\n",
    "df_train = pd.DataFrame.from_dict(predictors, orient=\"index\")\n",
    "df_train = pd.merge(df_train, targets_train, left_index=True, right_index=True)\n",
    "\n",
    "df_train.loc[df_train.laterality == 'L', 'laterality'] = 0\n",
    "df_train.loc[df_train.laterality == 'R', 'laterality'] = 1\n",
    "df_train['laterality'] = df_train['laterality'].astype(int)"
   ]
  },
  {
   "cell_type": "code",
   "execution_count": 10,
   "metadata": {},
   "outputs": [],
   "source": [
    "# train_columns = df_train[df_train.columns[1:-1]].columns"
   ]
  },
  {
   "cell_type": "code",
   "execution_count": 11,
   "metadata": {},
   "outputs": [],
   "source": [
    "# df_train[['another_'+x for x in train_columns]] = 0\n",
    "\n",
    "# for i in tqdm(range(df_train.shape[0])):\n",
    "    \n",
    "#     pid = df_train.patient_id.iloc[i]\n",
    "#     lat = df_train.laterality.iloc[i]\n",
    "    \n",
    "#     try:\n",
    "    \n",
    "#         df_train.loc[(df_train.patient_id == pid)\n",
    "#                      &(df_train.laterality == lat), ['another_'+x for x in train_columns]] \\\n",
    "#         = df_train.loc[(df_train.patient_id == pid)\n",
    "#                        &(df_train.laterality != lat), train_columns].iloc[0].values\n",
    "        \n",
    "#     except:\n",
    "        \n",
    "#         pass"
   ]
  },
  {
   "cell_type": "code",
   "execution_count": 12,
   "metadata": {},
   "outputs": [
    {
     "data": {
      "text/plain": [
       "BiRads\n",
       "1    1490\n",
       "2    2419\n",
       "3     104\n",
       "4      44\n",
       "5       6\n",
       "Name: laterality, dtype: int64"
      ]
     },
     "execution_count": 12,
     "metadata": {},
     "output_type": "execute_result"
    }
   ],
   "source": [
    "df_train.groupby('BiRads').laterality.count()"
   ]
  },
  {
   "cell_type": "code",
   "execution_count": 13,
   "metadata": {},
   "outputs": [],
   "source": [
    "X = df_train.drop(['patient_id', 'BiRads',\n",
    "#                   'laterality'\n",
    "                  ], axis=1)\n",
    "y = df_train['BiRads']"
   ]
  },
  {
   "cell_type": "code",
   "execution_count": 14,
   "metadata": {},
   "outputs": [
    {
     "data": {
      "text/plain": [
       "(4063, 1347)"
      ]
     },
     "execution_count": 14,
     "metadata": {},
     "output_type": "execute_result"
    }
   ],
   "source": [
    "X.shape"
   ]
  },
  {
   "cell_type": "code",
   "execution_count": 16,
   "metadata": {},
   "outputs": [],
   "source": [
    "X_train, X_val, y_train, y_val = train_test_split(X, y, stratify=y, test_size=0.1)"
   ]
  },
  {
   "cell_type": "code",
   "execution_count": 17,
   "metadata": {},
   "outputs": [],
   "source": [
    "# model = GradientBoostingClassifier()\n",
    "# model.fit(X_train, y_train)\n",
    "\n",
    "# # ExtraTreesClassifier, GradientBoostingClassifier, SVC"
   ]
  },
  {
   "cell_type": "code",
   "execution_count": 18,
   "metadata": {},
   "outputs": [
    {
     "name": "stdout",
     "output_type": "stream",
     "text": [
      "Learning rate set to 0.110812\n",
      "0:\tlearn: 1.4564512\ttest: 1.4509765\tbest: 1.4509765 (0)\ttotal: 330ms\tremaining: 5m 29s\n",
      "100:\tlearn: 0.5550685\ttest: 0.7196011\tbest: 0.7193874 (98)\ttotal: 11.2s\tremaining: 1m 39s\n",
      "200:\tlearn: 0.3982348\ttest: 0.7291420\tbest: 0.7180276 (107)\ttotal: 21.8s\tremaining: 1m 26s\n",
      "300:\tlearn: 0.2985240\ttest: 0.7348539\tbest: 0.7180276 (107)\ttotal: 31.6s\tremaining: 1m 13s\n",
      "Stopped by overfitting detector  (250 iterations wait)\n",
      "\n",
      "bestTest = 0.7180275545\n",
      "bestIteration = 107\n",
      "\n",
      "Shrink model to first 108 iterations.\n"
     ]
    },
    {
     "data": {
      "text/plain": [
       "<catboost.core.CatBoostClassifier at 0x19d3fd190>"
      ]
     },
     "execution_count": 18,
     "metadata": {},
     "output_type": "execute_result"
    }
   ],
   "source": [
    "model = CatBoostClassifier(loss_function='MultiClass',\n",
    "#                            auto_class_weights='Balanced',\n",
    "#                            depth=6, iterations=2000,\n",
    "#                            l2_leaf_reg=1,\n",
    "#                            random_strength=10, \n",
    "#                            bagging_temperature=10,\n",
    "                           early_stopping_rounds=250, verbose=100)\n",
    "\n",
    "model.fit(X_train, y_train, eval_set=(X_val, y_val),\n",
    "          cat_features=['laterality', \n",
    "#                         'another_laterality'\n",
    "                       ]\n",
    "         )"
   ]
  },
  {
   "cell_type": "code",
   "execution_count": 19,
   "metadata": {},
   "outputs": [],
   "source": [
    "# models = []\n",
    "\n",
    "# for train_index, test_index in StratifiedKFold(n_splits=5).split(df_train, df_train['BiRads']):\n",
    "    \n",
    "#     X_train, y_train = df_train.drop(['BiRads'], axis=1).iloc[train_index], df_train['BiRads'].iloc[train_index]\n",
    "    \n",
    "#     X_val, y_val = df_train.drop(['BiRads'], axis=1).iloc[test_index], df_train['BiRads'].iloc[test_index]\n",
    "    \n",
    "#     model = CatBoostClassifier(loss_function='MultiClass',\n",
    "#                                early_stopping_rounds=250,\n",
    "#                                verbose=100)\n",
    "\n",
    "#     model.fit(X_train, y_train, eval_set=(X_val, y_val),\n",
    "#               cat_features=['laterality'])\n",
    "    \n",
    "#     print(calculate_metrics(y_val, model.predict(X_val)))\n",
    "    \n",
    "#     models.append(model)"
   ]
  },
  {
   "cell_type": "code",
   "execution_count": 20,
   "metadata": {},
   "outputs": [],
   "source": [
    "# preds = np.zeros((X_val.shape[0], 5))\n",
    "\n",
    "# for model in models:\n",
    "    \n",
    "#     preds += model.predict_proba(X_val) / 5"
   ]
  },
  {
   "cell_type": "code",
   "execution_count": 21,
   "metadata": {},
   "outputs": [],
   "source": [
    "preds = model.predict_proba(X_val)"
   ]
  },
  {
   "cell_type": "code",
   "execution_count": 22,
   "metadata": {},
   "outputs": [
    {
     "data": {
      "text/plain": [
       "0.030836050274570405"
      ]
     },
     "execution_count": 22,
     "metadata": {},
     "output_type": "execute_result"
    }
   ],
   "source": [
    "preds[:, 4].max()"
   ]
  },
  {
   "cell_type": "code",
   "execution_count": 23,
   "metadata": {},
   "outputs": [],
   "source": [
    "preds_ = []\n",
    "\n",
    "for pred in preds:\n",
    "    \n",
    "    max_pred = np.where(pred == pred.max())[0][0]\n",
    "    \n",
    "    if pred[4] > 0.005:\n",
    "        preds_.append(5)\n",
    "    \n",
    "    elif pred[3] > 0.01:\n",
    "        preds_.append(4)\n",
    "    \n",
    "    elif pred[2] > 0.015:\n",
    "        preds_.append(3)\n",
    "    \n",
    "    else:\n",
    "        preds_.append(max_pred+1)"
   ]
  },
  {
   "cell_type": "code",
   "execution_count": 24,
   "metadata": {},
   "outputs": [],
   "source": [
    "preds2 = []\n",
    "\n",
    "for pred in preds:\n",
    "    \n",
    "    pred2 = np.zeros((5))\n",
    "    \n",
    "    for i in range(5):\n",
    "        for j in range(i+1):\n",
    "            if j == 2:\n",
    "                pred2[i] += 1.4*pred[j] / (i+1)\n",
    "            elif j == 3:\n",
    "                pred2[i] += 1.8*pred[j] / (i+1)\n",
    "            elif j == 4:\n",
    "                pred2[i] += 2.2*pred[j] / (i+1)\n",
    "            else:\n",
    "                pred2[i] += pred[j] / (i+1)\n",
    "    \n",
    "    preds2.append(pred2)"
   ]
  },
  {
   "cell_type": "code",
   "execution_count": 25,
   "metadata": {},
   "outputs": [],
   "source": [
    "preds_ = []\n",
    "for pred in preds2:\n",
    "    max_pred = np.where(pred == pred.max())[0][0]\n",
    "    preds_.append(max_pred+1)"
   ]
  },
  {
   "cell_type": "code",
   "execution_count": 26,
   "metadata": {},
   "outputs": [
    {
     "data": {
      "text/plain": [
       "0.2049091847749566"
      ]
     },
     "execution_count": 26,
     "metadata": {},
     "output_type": "execute_result"
    }
   ],
   "source": [
    "calculate_metrics(y_val, np.array(preds_)) + 0.25*macro_averaged_mean_absolute_error(y_val, np.array(preds_))"
   ]
  },
  {
   "cell_type": "code",
   "execution_count": 27,
   "metadata": {},
   "outputs": [
    {
     "data": {
      "text/plain": [
       "0.33340451494813916"
      ]
     },
     "execution_count": 27,
     "metadata": {},
     "output_type": "execute_result"
    }
   ],
   "source": [
    "0.25*macro_averaged_mean_absolute_error(y_val, np.array(preds_))"
   ]
  },
  {
   "cell_type": "code",
   "execution_count": 28,
   "metadata": {},
   "outputs": [
    {
     "data": {
      "text/plain": [
       "-0.12849533017318257"
      ]
     },
     "execution_count": 28,
     "metadata": {},
     "output_type": "execute_result"
    }
   ],
   "source": [
    "calculate_metrics(y_val, np.array(preds_))"
   ]
  },
  {
   "cell_type": "code",
   "execution_count": 29,
   "metadata": {},
   "outputs": [
    {
     "data": {
      "text/plain": [
       "-0.12849533017318257"
      ]
     },
     "execution_count": 29,
     "metadata": {},
     "output_type": "execute_result"
    }
   ],
   "source": [
    "calculate_metrics(y_val, model.predict(X_val))"
   ]
  },
  {
   "cell_type": "code",
   "execution_count": null,
   "metadata": {},
   "outputs": [],
   "source": []
  },
  {
   "cell_type": "code",
   "execution_count": null,
   "metadata": {},
   "outputs": [],
   "source": []
  },
  {
   "cell_type": "code",
   "execution_count": null,
   "metadata": {},
   "outputs": [],
   "source": []
  },
  {
   "cell_type": "code",
   "execution_count": 109,
   "metadata": {},
   "outputs": [
    {
     "name": "stderr",
     "output_type": "stream",
     "text": [
      "100%|██████████████████████████████████████| 4663/4663 [00:20<00:00, 225.21it/s]\n"
     ]
    }
   ],
   "source": [
    "with open(\"data_test/data_test.json\", \"r\") as fin:\n",
    "    data_test = json.load(fin)\n",
    "\n",
    "predictors_test = {}\n",
    "for key, value in tqdm(data_test.items()):\n",
    "    predictors_test[key] = extract_basic_features(value)\n",
    "\n",
    "df_test = pd.DataFrame.from_dict(predictors_test, orient=\"index\")\n",
    "\n",
    "df_test.loc[df_test.laterality == 'L', 'laterality'] = 0\n",
    "df_test.loc[df_test.laterality == 'R', 'laterality'] = 1\n",
    "df_test['laterality'] = df_test['laterality'].astype(int)"
   ]
  },
  {
   "cell_type": "code",
   "execution_count": 523,
   "metadata": {},
   "outputs": [],
   "source": [
    "df_test = df_test.drop(['patient_id'], axis=1)"
   ]
  },
  {
   "cell_type": "code",
   "execution_count": 524,
   "metadata": {},
   "outputs": [],
   "source": [
    "# df_test[['another_'+x for x in train_columns]] = 0\n",
    "\n",
    "# for i in tqdm(range(df_test.shape[0])):\n",
    "    \n",
    "#     pid = df_test.patient_id.iloc[i]\n",
    "#     lat = df_test.laterality.iloc[i]\n",
    "    \n",
    "#     try:\n",
    "    \n",
    "#         df_test.loc[(df_test.patient_id == pid)\n",
    "#                      &(df_test.laterality == lat), ['another_'+x for x in train_columns]] \\\n",
    "#         = df_test.loc[(df_test.patient_id == pid)\n",
    "#                        &(df_test.laterality != lat), train_columns].iloc[0].values\n",
    "        \n",
    "#     except:\n",
    "        \n",
    "#         pass"
   ]
  },
  {
   "cell_type": "code",
   "execution_count": 525,
   "metadata": {},
   "outputs": [],
   "source": [
    "# preds = np.zeros((df_test.shape[0], 5))\n",
    "\n",
    "# for model in models:\n",
    "#     preds += model.predict_proba(df_test) / len(models)"
   ]
  },
  {
   "cell_type": "code",
   "execution_count": 526,
   "metadata": {},
   "outputs": [],
   "source": [
    "preds = model.predict_proba(df_test)"
   ]
  },
  {
   "cell_type": "code",
   "execution_count": 527,
   "metadata": {},
   "outputs": [],
   "source": [
    "# for i in range(5):\n",
    "#     preds[:, i] = (preds[:, i] - preds[:, i].min()) / (preds[:, i].max() - preds[:, i].min())"
   ]
  },
  {
   "cell_type": "code",
   "execution_count": 528,
   "metadata": {},
   "outputs": [
    {
     "data": {
      "text/plain": [
       "0.3691250093934651"
      ]
     },
     "execution_count": 528,
     "metadata": {},
     "output_type": "execute_result"
    }
   ],
   "source": [
    "preds[:, 4].max()"
   ]
  },
  {
   "cell_type": "code",
   "execution_count": 546,
   "metadata": {},
   "outputs": [
    {
     "data": {
      "image/png": "[encoded data removed]",
      "text/plain": [
       "<Figure size 432x288 with 1 Axes>"
      ]
     },
     "metadata": {
      "needs_background": "light"
     },
     "output_type": "display_data"
    },
    {
     "data": {
      "image/png": "[encoded data removed]",
      "text/plain": [
       "<Figure size 432x288 with 1 Axes>"
      ]
     },
     "metadata": {
      "needs_background": "light"
     },
     "output_type": "display_data"
    }
   ],
   "source": [
    "k = 5\n",
    "plt.plot(preds[k])\n",
    "plt.show()\n",
    "plt.plot(preds2[k])\n",
    "plt.show()"
   ]
  },
  {
   "cell_type": "code",
   "execution_count": 680,
   "metadata": {},
   "outputs": [],
   "source": [
    "preds2 = []\n",
    "\n",
    "for pred in preds:\n",
    "    \n",
    "    pred2 = np.zeros((5))\n",
    "    \n",
    "    for i in range(5):\n",
    "        for j in range(i+1):\n",
    "            if j == 2:\n",
    "                pred2[i] += 1.3*pred[j] / (i+1)\n",
    "            elif j == 3:\n",
    "                pred2[i] += 1.2*pred[j] / (i+1)\n",
    "            elif j == 4:\n",
    "                pred2[i] += 1.5*pred[j] / (i+1)\n",
    "            else:\n",
    "                pred2[i] += pred[j] / (i+1)\n",
    "    \n",
    "    preds2.append(pred2)"
   ]
  },
  {
   "cell_type": "code",
   "execution_count": 681,
   "metadata": {},
   "outputs": [],
   "source": [
    "preds_ = []\n",
    "for pred in preds2:\n",
    "    max_pred = np.where(pred == pred.max())[0][0]\n",
    "    preds_.append(max_pred+1)"
   ]
  },
  {
   "cell_type": "code",
   "execution_count": 753,
   "metadata": {},
   "outputs": [],
   "source": [
    "preds_ = []\n",
    "\n",
    "for pred in preds:\n",
    "    \n",
    "    max_pred = np.where(pred == pred.max())[0][0]\n",
    "    \n",
    "    if pred[4] > 0.21:\n",
    "        preds_.append(5)\n",
    "    \n",
    "    elif pred[3] > 0.23:\n",
    "        preds_.append(4)\n",
    "    \n",
    "    elif pred[2] > 0.22:\n",
    "        preds_.append(3)\n",
    "    \n",
    "    else:\n",
    "        preds_.append(max_pred+1)"
   ]
  },
  {
   "cell_type": "code",
   "execution_count": 754,
   "metadata": {},
   "outputs": [],
   "source": [
    "# preds_ = model.predict(df_test)"
   ]
  },
  {
   "cell_type": "code",
   "execution_count": 755,
   "metadata": {},
   "outputs": [],
   "source": [
    "sub = pd.read_csv('sample_submit.csv')"
   ]
  },
  {
   "cell_type": "code",
   "execution_count": 756,
   "metadata": {},
   "outputs": [],
   "source": [
    "sub['BiRads'] = preds_\n",
    "sub['best'] = pd.read_csv('sub_18.csv')['BiRads']"
   ]
  },
  {
   "cell_type": "code",
   "execution_count": 757,
   "metadata": {},
   "outputs": [
    {
     "data": {
      "text/plain": [
       "BiRads\n",
       "1    1872\n",
       "2     744\n",
       "3     984\n",
       "4     854\n",
       "5     209\n",
       "Name: id, dtype: int64"
      ]
     },
     "execution_count": 757,
     "metadata": {},
     "output_type": "execute_result"
    }
   ],
   "source": [
    "sub.groupby('BiRads').id.count()"
   ]
  },
  {
   "cell_type": "code",
   "execution_count": 758,
   "metadata": {},
   "outputs": [
    {
     "data": {
      "text/plain": [
       "best\n",
       "1     937\n",
       "2    1175\n",
       "3    1034\n",
       "4    1303\n",
       "5     214\n",
       "Name: id, dtype: int64"
      ]
     },
     "execution_count": 758,
     "metadata": {},
     "output_type": "execute_result"
    }
   ],
   "source": [
    "sub.groupby('best').id.count()"
   ]
  },
  {
   "cell_type": "code",
   "execution_count": 759,
   "metadata": {},
   "outputs": [],
   "source": [
    "# min_diff = 2000\n",
    "\n",
    "# for t1 in [0.001, 0.002, 0.003, 0.004, 0.005, 0.006, 0.007]:\n",
    "    \n",
    "#     for t2 in [0.006, 0.007, 0.008, 0.009, 0.01, 0.011, 0.012]:\n",
    "        \n",
    "#         for t3 in [0.008, 0.009, 0.01, 0.011, 0.012, 0.013]:\n",
    "\n",
    "#             preds_ = []\n",
    "            \n",
    "#             for pred in preds:\n",
    "                \n",
    "#                 max_pred = np.where(pred == pred.max())[0][0]\n",
    "                \n",
    "#                 if pred[4] > t1:\n",
    "#                     preds_.append(5)\n",
    "                \n",
    "#                 elif pred[3] > t2:\n",
    "#                     preds_.append(4)\n",
    "                \n",
    "#                 elif pred[2] > t3:\n",
    "#                     preds_.append(3)\n",
    "                \n",
    "#                 else:\n",
    "#                     preds_.append(max_pred+1)\n",
    "                    \n",
    "#             sub['BiRads'] = preds_\n",
    "            \n",
    "#             if sub[sub.BiRads != sub.best].shape[0] < min_diff:\n",
    "#                 min_diff = sub[sub.BiRads != sub.best].shape[0]\n",
    "#                 print(t1, t2, t3, sub[sub.BiRads != sub.best].shape)"
   ]
  },
  {
   "cell_type": "code",
   "execution_count": 760,
   "metadata": {},
   "outputs": [
    {
     "data": {
      "text/plain": [
       "(2798, 3)"
      ]
     },
     "execution_count": 760,
     "metadata": {},
     "output_type": "execute_result"
    }
   ],
   "source": [
    "sub[sub.BiRads != sub.best].shape"
   ]
  },
  {
   "cell_type": "code",
   "execution_count": 761,
   "metadata": {},
   "outputs": [],
   "source": [
    "sub[['id', 'BiRads']].to_csv('sub_49.csv', index=False)"
   ]
  },
  {
   "cell_type": "code",
   "execution_count": null,
   "metadata": {},
   "outputs": [],
   "source": []
  },
  {
   "cell_type": "code",
   "execution_count": 615,
   "metadata": {},
   "outputs": [
    {
     "data": {
      "text/plain": [
       "(1524, 5)"
      ]
     },
     "execution_count": 615,
     "metadata": {},
     "output_type": "execute_result"
    }
   ],
   "source": [
    "preds[preds[:, 0] > 0.25].shape"
   ]
  },
  {
   "cell_type": "code",
   "execution_count": null,
   "metadata": {},
   "outputs": [],
   "source": []
  },
  {
   "cell_type": "code",
   "execution_count": 161,
   "metadata": {},
   "outputs": [],
   "source": [
    "# fimp = np.zeros((df_train.shape[1]-1))\n",
    "\n",
    "# for model in models:\n",
    "    \n",
    "#     fimp += model.get_feature_importance() / 5"
   ]
  },
  {
   "cell_type": "code",
   "execution_count": 49,
   "metadata": {},
   "outputs": [],
   "source": [
    "feature_importance = pd.DataFrame()\n",
    "feature_importance['feature'] = X.columns\n",
    "feature_importance['importance'] = model.get_feature_importance()\n",
    "feature_importance = feature_importance.sort_values('importance', ascending=False).reset_index(drop=True)\n",
    "# feature_importance['importance'] = fimp"
   ]
  },
  {
   "cell_type": "code",
   "execution_count": 51,
   "metadata": {},
   "outputs": [],
   "source": [
    "# feature_importance[feature_importance.importance > 0].sort_values('importance', ascending=False).shape[0]"
   ]
  },
  {
   "cell_type": "code",
   "execution_count": 58,
   "metadata": {},
   "outputs": [],
   "source": [
    "def feature_type(feature):\n",
    "    if 'prob_square' in feature:\n",
    "        return 'prob_square'\n",
    "    elif 'square' in feature:\n",
    "        return 'square'\n",
    "    else:\n",
    "        return 'prob'\n",
    "    \n",
    "def feature_model(feature):\n",
    "    if '1' in feature:\n",
    "        return 1\n",
    "    elif '2' in feature:\n",
    "        return 2\n",
    "    else:\n",
    "        return 3"
   ]
  },
  {
   "cell_type": "code",
   "execution_count": 59,
   "metadata": {},
   "outputs": [],
   "source": [
    "feature_importance['type'] = feature_importance.feature.apply(lambda x: feature_type(x))\n",
    "feature_importance['model'] = feature_importance.feature.apply(lambda x: feature_model(x))"
   ]
  },
  {
   "cell_type": "code",
   "execution_count": 80,
   "metadata": {},
   "outputs": [
    {
     "data": {
      "text/html": [
       "<div>\n",
       "<style scoped>\n",
       "    .dataframe tbody tr th:only-of-type {\n",
       "        vertical-align: middle;\n",
       "    }\n",
       "\n",
       "    .dataframe tbody tr th {\n",
       "        vertical-align: top;\n",
       "    }\n",
       "\n",
       "    .dataframe thead th {\n",
       "        text-align: right;\n",
       "    }\n",
       "</style>\n",
       "<table border=\"1\" class=\"dataframe\">\n",
       "  <thead>\n",
       "    <tr style=\"text-align: right;\">\n",
       "      <th></th>\n",
       "      <th>feature</th>\n",
       "      <th>importance</th>\n",
       "      <th>type</th>\n",
       "      <th>model</th>\n",
       "    </tr>\n",
       "  </thead>\n",
       "  <tbody>\n",
       "    <tr>\n",
       "      <th>5</th>\n",
       "      <td>square_MLO_3_mass_malignant_sum</td>\n",
       "      <td>0.984293</td>\n",
       "      <td>square</td>\n",
       "      <td>3</td>\n",
       "    </tr>\n",
       "    <tr>\n",
       "      <th>8</th>\n",
       "      <td>square_MLO_1_lymphonodus_max</td>\n",
       "      <td>0.815685</td>\n",
       "      <td>square</td>\n",
       "      <td>1</td>\n",
       "    </tr>\n",
       "    <tr>\n",
       "      <th>11</th>\n",
       "      <td>square_MLO_1_nipple_sum</td>\n",
       "      <td>0.779411</td>\n",
       "      <td>square</td>\n",
       "      <td>1</td>\n",
       "    </tr>\n",
       "    <tr>\n",
       "      <th>14</th>\n",
       "      <td>square_CC_1_calcinates_benign_mean</td>\n",
       "      <td>0.739846</td>\n",
       "      <td>square</td>\n",
       "      <td>1</td>\n",
       "    </tr>\n",
       "    <tr>\n",
       "      <th>17</th>\n",
       "      <td>square_CC_3_mass_benign_mean</td>\n",
       "      <td>0.675747</td>\n",
       "      <td>square</td>\n",
       "      <td>3</td>\n",
       "    </tr>\n",
       "    <tr>\n",
       "      <th>22</th>\n",
       "      <td>square_MLO_2_mass_malignant_median</td>\n",
       "      <td>0.645050</td>\n",
       "      <td>square</td>\n",
       "      <td>2</td>\n",
       "    </tr>\n",
       "    <tr>\n",
       "      <th>24</th>\n",
       "      <td>square_CC_2_mass_malignant_mean</td>\n",
       "      <td>0.630174</td>\n",
       "      <td>square</td>\n",
       "      <td>2</td>\n",
       "    </tr>\n",
       "    <tr>\n",
       "      <th>25</th>\n",
       "      <td>square_MLO_1_calcinates_benign_mean</td>\n",
       "      <td>0.629509</td>\n",
       "      <td>square</td>\n",
       "      <td>1</td>\n",
       "    </tr>\n",
       "    <tr>\n",
       "      <th>27</th>\n",
       "      <td>square_MLO_1_calcinates_benign_sum</td>\n",
       "      <td>0.614917</td>\n",
       "      <td>square</td>\n",
       "      <td>1</td>\n",
       "    </tr>\n",
       "    <tr>\n",
       "      <th>29</th>\n",
       "      <td>square_MLO_1_pectoral muscle_mean</td>\n",
       "      <td>0.602058</td>\n",
       "      <td>square</td>\n",
       "      <td>1</td>\n",
       "    </tr>\n",
       "  </tbody>\n",
       "</table>\n",
       "</div>"
      ],
      "text/plain": [
       "                                feature  importance    type  model\n",
       "5       square_MLO_3_mass_malignant_sum    0.984293  square      3\n",
       "8          square_MLO_1_lymphonodus_max    0.815685  square      1\n",
       "11              square_MLO_1_nipple_sum    0.779411  square      1\n",
       "14   square_CC_1_calcinates_benign_mean    0.739846  square      1\n",
       "17         square_CC_3_mass_benign_mean    0.675747  square      3\n",
       "22   square_MLO_2_mass_malignant_median    0.645050  square      2\n",
       "24      square_CC_2_mass_malignant_mean    0.630174  square      2\n",
       "25  square_MLO_1_calcinates_benign_mean    0.629509  square      1\n",
       "27   square_MLO_1_calcinates_benign_sum    0.614917  square      1\n",
       "29    square_MLO_1_pectoral muscle_mean    0.602058  square      1"
      ]
     },
     "execution_count": 80,
     "metadata": {},
     "output_type": "execute_result"
    }
   ],
   "source": [
    "feature_importance[feature_importance.type == 'square'].head(10)"
   ]
  },
  {
   "cell_type": "code",
   "execution_count": null,
   "metadata": {},
   "outputs": [],
   "source": [
    "# prob_square median - 589.5\n",
    "# square median - 544.5\n",
    "# prob median - 908"
   ]
  },
  {
   "cell_type": "code",
   "execution_count": null,
   "metadata": {},
   "outputs": [],
   "source": []
  },
  {
   "cell_type": "code",
   "execution_count": 502,
   "metadata": {},
   "outputs": [],
   "source": [
    "# feature_importance.sort_values('importance', ascending=False).iloc[:50]"
   ]
  },
  {
   "cell_type": "code",
   "execution_count": 811,
   "metadata": {},
   "outputs": [],
   "source": [
    "X_feat = X[feature_importance[feature_importance.importance > 0.0001].feature.values]\n",
    "y_feat = y"
   ]
  },
  {
   "cell_type": "code",
   "execution_count": 812,
   "metadata": {},
   "outputs": [],
   "source": [
    "X_train, X_val, y_train, y_val = train_test_split(X_feat, y_feat, stratify=y_feat, test_size=0.15)"
   ]
  },
  {
   "cell_type": "code",
   "execution_count": 813,
   "metadata": {},
   "outputs": [
    {
     "name": "stdout",
     "output_type": "stream",
     "text": [
      "Learning rate set to 0.110686\n",
      "0:\tlearn: 1.4641425\ttest: 1.4705180\tbest: 1.4705180 (0)\ttotal: 261ms\tremaining: 4m 20s\n",
      "100:\tlearn: 0.5180438\ttest: 0.7306986\tbest: 0.7297976 (98)\ttotal: 12.7s\tremaining: 1m 53s\n",
      "200:\tlearn: 0.3542670\ttest: 0.7336471\tbest: 0.7277790 (115)\ttotal: 25.6s\tremaining: 1m 41s\n",
      "300:\tlearn: 0.2518778\ttest: 0.7358142\tbest: 0.7277790 (115)\ttotal: 37.3s\tremaining: 1m 26s\n",
      "Stopped by overfitting detector  (250 iterations wait)\n",
      "\n",
      "bestTest = 0.7277789616\n",
      "bestIteration = 115\n",
      "\n",
      "Shrink model to first 116 iterations.\n"
     ]
    },
    {
     "data": {
      "text/plain": [
       "<catboost.core.CatBoostClassifier at 0x1b408fe50>"
      ]
     },
     "execution_count": 813,
     "metadata": {},
     "output_type": "execute_result"
    }
   ],
   "source": [
    "model = CatBoostClassifier(loss_function='MultiClass', early_stopping_rounds=250, verbose=100)\n",
    "\n",
    "model.fit(X_train, y_train, eval_set=(X_val, y_val))"
   ]
  },
  {
   "cell_type": "code",
   "execution_count": 814,
   "metadata": {},
   "outputs": [],
   "source": [
    "# models = []\n",
    "\n",
    "# for train_index, test_index in StratifiedKFold(n_splits=5).split(X, y):\n",
    "    \n",
    "#     X_train, y_train = X.iloc[train_index], y.iloc[train_index]\n",
    "    \n",
    "#     X_val, y_val = X.iloc[test_index], y.iloc[test_index]\n",
    "    \n",
    "#     model = CatBoostClassifier(loss_function='MultiClass',\n",
    "#                                early_stopping_rounds=250,\n",
    "#                                verbose=False)\n",
    "\n",
    "#     model.fit(X_train, y_train, eval_set=(X_val, y_val),\n",
    "# #               cat_features=['laterality']\n",
    "#              )\n",
    "    \n",
    "#     print(calculate_metrics(y_val, model.predict(X_val)))\n",
    "    \n",
    "#     models.append(model)"
   ]
  },
  {
   "cell_type": "code",
   "execution_count": 178,
   "metadata": {},
   "outputs": [],
   "source": [
    "# preds = np.zeros((df_test.shape[0], 5))\n",
    "\n",
    "# for model in models:\n",
    "#     preds += model.predict_proba(df_test[feature_importance[feature_importance.importance > 0.05].feature.values]) / len(models)"
   ]
  },
  {
   "cell_type": "code",
   "execution_count": 839,
   "metadata": {},
   "outputs": [],
   "source": [
    "preds = model.predict_proba(df_test[feature_importance[feature_importance.importance > 0.0001].feature.values])\n",
    "\n",
    "preds_ = []\n",
    "\n",
    "for pred in preds:\n",
    "    \n",
    "    max_pred = np.where(pred == pred.max())[0][0]\n",
    "    \n",
    "    if pred[4] > 0.005:\n",
    "        preds_.append(5)\n",
    "    \n",
    "    elif pred[3] > 0.01:\n",
    "        preds_.append(4)\n",
    "    \n",
    "    elif pred[2] > 0.015:\n",
    "        preds_.append(3)\n",
    "    \n",
    "    else:\n",
    "        preds_.append(max_pred+1)"
   ]
  },
  {
   "cell_type": "code",
   "execution_count": 840,
   "metadata": {},
   "outputs": [],
   "source": [
    "sub = pd.read_csv('sample_submit.csv')"
   ]
  },
  {
   "cell_type": "code",
   "execution_count": 841,
   "metadata": {},
   "outputs": [],
   "source": [
    "# sub['BiRads'] = preds_\n",
    "sub['BiRads'] = preds_\n",
    "sub['best'] = pd.read_csv('sub_18.csv')['BiRads']"
   ]
  },
  {
   "cell_type": "code",
   "execution_count": 842,
   "metadata": {},
   "outputs": [
    {
     "data": {
      "text/plain": [
       "BiRads\n",
       "1     795\n",
       "2    1001\n",
       "3    1362\n",
       "4    1278\n",
       "5     227\n",
       "Name: id, dtype: int64"
      ]
     },
     "execution_count": 842,
     "metadata": {},
     "output_type": "execute_result"
    }
   ],
   "source": [
    "sub.groupby('BiRads').id.count()"
   ]
  },
  {
   "cell_type": "code",
   "execution_count": 843,
   "metadata": {},
   "outputs": [
    {
     "data": {
      "text/plain": [
       "best\n",
       "1     937\n",
       "2    1175\n",
       "3    1034\n",
       "4    1303\n",
       "5     214\n",
       "Name: id, dtype: int64"
      ]
     },
     "execution_count": 843,
     "metadata": {},
     "output_type": "execute_result"
    }
   ],
   "source": [
    "sub.groupby('best').id.count()"
   ]
  },
  {
   "cell_type": "code",
   "execution_count": 844,
   "metadata": {},
   "outputs": [],
   "source": [
    "sub[['id', 'BiRads']].to_csv('sub_30.csv', index=False)"
   ]
  },
  {
   "cell_type": "code",
   "execution_count": 845,
   "metadata": {},
   "outputs": [
    {
     "data": {
      "text/html": [
       "<div>\n",
       "<style scoped>\n",
       "    .dataframe tbody tr th:only-of-type {\n",
       "        vertical-align: middle;\n",
       "    }\n",
       "\n",
       "    .dataframe tbody tr th {\n",
       "        vertical-align: top;\n",
       "    }\n",
       "\n",
       "    .dataframe thead th {\n",
       "        text-align: right;\n",
       "    }\n",
       "</style>\n",
       "<table border=\"1\" class=\"dataframe\">\n",
       "  <thead>\n",
       "    <tr style=\"text-align: right;\">\n",
       "      <th></th>\n",
       "      <th>id</th>\n",
       "      <th>BiRads</th>\n",
       "      <th>best</th>\n",
       "    </tr>\n",
       "  </thead>\n",
       "  <tbody>\n",
       "    <tr>\n",
       "      <th>0</th>\n",
       "      <td>8097d218-2c51-4ec8-9ee8-ea6b7701ef3c</td>\n",
       "      <td>3</td>\n",
       "      <td>4</td>\n",
       "    </tr>\n",
       "    <tr>\n",
       "      <th>1</th>\n",
       "      <td>4c9a6bed-a454-467c-b51e-451f5ee2db35</td>\n",
       "      <td>4</td>\n",
       "      <td>3</td>\n",
       "    </tr>\n",
       "    <tr>\n",
       "      <th>7</th>\n",
       "      <td>f572edaa-93ce-4489-80e2-0fad155e5851</td>\n",
       "      <td>2</td>\n",
       "      <td>1</td>\n",
       "    </tr>\n",
       "    <tr>\n",
       "      <th>9</th>\n",
       "      <td>6aba217f-bbaf-4368-9b30-64b481177c80</td>\n",
       "      <td>4</td>\n",
       "      <td>3</td>\n",
       "    </tr>\n",
       "    <tr>\n",
       "      <th>10</th>\n",
       "      <td>9a13ff22-f414-457b-8e01-e11adea327a9</td>\n",
       "      <td>3</td>\n",
       "      <td>4</td>\n",
       "    </tr>\n",
       "    <tr>\n",
       "      <th>...</th>\n",
       "      <td>...</td>\n",
       "      <td>...</td>\n",
       "      <td>...</td>\n",
       "    </tr>\n",
       "    <tr>\n",
       "      <th>4653</th>\n",
       "      <td>a71181a4-a11f-49cb-b997-bacbc65123f3</td>\n",
       "      <td>3</td>\n",
       "      <td>4</td>\n",
       "    </tr>\n",
       "    <tr>\n",
       "      <th>4656</th>\n",
       "      <td>a83040a4-6949-4915-a863-1a185de4551a</td>\n",
       "      <td>3</td>\n",
       "      <td>2</td>\n",
       "    </tr>\n",
       "    <tr>\n",
       "      <th>4658</th>\n",
       "      <td>67db950f-8a39-4594-82a4-6b22db8afb76</td>\n",
       "      <td>4</td>\n",
       "      <td>5</td>\n",
       "    </tr>\n",
       "    <tr>\n",
       "      <th>4660</th>\n",
       "      <td>eb0a4b02-1d68-4b62-bcaa-1825ce5804d2</td>\n",
       "      <td>3</td>\n",
       "      <td>4</td>\n",
       "    </tr>\n",
       "    <tr>\n",
       "      <th>4661</th>\n",
       "      <td>061be2ba-9c5d-4c19-815c-deb227a9cc68</td>\n",
       "      <td>1</td>\n",
       "      <td>3</td>\n",
       "    </tr>\n",
       "  </tbody>\n",
       "</table>\n",
       "<p>2031 rows × 3 columns</p>\n",
       "</div>"
      ],
      "text/plain": [
       "                                        id  BiRads  best\n",
       "0     8097d218-2c51-4ec8-9ee8-ea6b7701ef3c       3     4\n",
       "1     4c9a6bed-a454-467c-b51e-451f5ee2db35       4     3\n",
       "7     f572edaa-93ce-4489-80e2-0fad155e5851       2     1\n",
       "9     6aba217f-bbaf-4368-9b30-64b481177c80       4     3\n",
       "10    9a13ff22-f414-457b-8e01-e11adea327a9       3     4\n",
       "...                                    ...     ...   ...\n",
       "4653  a71181a4-a11f-49cb-b997-bacbc65123f3       3     4\n",
       "4656  a83040a4-6949-4915-a863-1a185de4551a       3     2\n",
       "4658  67db950f-8a39-4594-82a4-6b22db8afb76       4     5\n",
       "4660  eb0a4b02-1d68-4b62-bcaa-1825ce5804d2       3     4\n",
       "4661  061be2ba-9c5d-4c19-815c-deb227a9cc68       1     3\n",
       "\n",
       "[2031 rows x 3 columns]"
      ]
     },
     "execution_count": 845,
     "metadata": {},
     "output_type": "execute_result"
    }
   ],
   "source": [
    "sub[sub.BiRads != sub.best]"
   ]
  },
  {
   "cell_type": "code",
   "execution_count": 3,
   "metadata": {},
   "outputs": [],
   "source": [
    "ress = [0.1753, 0.1799, 0.1694, 0.1945,\n",
    "        0.1514, 0.1856, 0.2661, 0.1815, 0.2104,\n",
    "        0.2241, 0.2009, 0.2309, 0.2031, 0.2043]"
   ]
  },
  {
   "cell_type": "code",
   "execution_count": 12,
   "metadata": {},
   "outputs": [],
   "source": [
    "sub = pd.read_csv('sample_submit.csv')"
   ]
  },
  {
   "cell_type": "code",
   "execution_count": 37,
   "metadata": {},
   "outputs": [],
   "source": [
    "preds = np.zeros((sub.shape[0], 5))\n",
    "\n",
    "for i in range(11, 25):\n",
    "\n",
    "    pred_temp = pd.read_csv('sub_{}.csv'.format(i))['BiRads']\n",
    "    \n",
    "    for j, pr in enumerate(pred_temp):\n",
    "        \n",
    "#         preds[j, pr-1] += ress[i-11]\n",
    "        preds[j, pr-1] += 1"
   ]
  },
  {
   "cell_type": "code",
   "execution_count": 38,
   "metadata": {},
   "outputs": [
    {
     "data": {
      "text/plain": [
       "3"
      ]
     },
     "execution_count": 38,
     "metadata": {},
     "output_type": "execute_result"
    }
   ],
   "source": [
    "np.where(pred == np.sort(pred)[-2])[0][0]"
   ]
  },
  {
   "cell_type": "code",
   "execution_count": 43,
   "metadata": {},
   "outputs": [],
   "source": [
    "preds_ = []\n",
    "\n",
    "for pred in preds:\n",
    "    \n",
    "    max_pred = np.where(pred == np.sort(pred)[-1])[0][0]\n",
    "    premax_pred = np.where(pred == np.sort(pred)[-2])[0][0]\n",
    "    \n",
    "    if max_pred - premax_pred < 3:\n",
    "        preds_.append(min(max_pred, premax_pred)+1)\n",
    "    else:\n",
    "        preds_.append(max_pred+1)"
   ]
  },
  {
   "cell_type": "code",
   "execution_count": 44,
   "metadata": {},
   "outputs": [],
   "source": [
    "sub['BiRads'] = preds_\n",
    "sub['best'] = pd.read_csv('sub_18.csv')['BiRads']"
   ]
  },
  {
   "cell_type": "code",
   "execution_count": 45,
   "metadata": {},
   "outputs": [
    {
     "data": {
      "text/html": [
       "<div>\n",
       "<style scoped>\n",
       "    .dataframe tbody tr th:only-of-type {\n",
       "        vertical-align: middle;\n",
       "    }\n",
       "\n",
       "    .dataframe tbody tr th {\n",
       "        vertical-align: top;\n",
       "    }\n",
       "\n",
       "    .dataframe thead th {\n",
       "        text-align: right;\n",
       "    }\n",
       "</style>\n",
       "<table border=\"1\" class=\"dataframe\">\n",
       "  <thead>\n",
       "    <tr style=\"text-align: right;\">\n",
       "      <th></th>\n",
       "      <th>id</th>\n",
       "      <th>BiRads</th>\n",
       "      <th>best</th>\n",
       "    </tr>\n",
       "  </thead>\n",
       "  <tbody>\n",
       "    <tr>\n",
       "      <th>0</th>\n",
       "      <td>8097d218-2c51-4ec8-9ee8-ea6b7701ef3c</td>\n",
       "      <td>2</td>\n",
       "      <td>4</td>\n",
       "    </tr>\n",
       "    <tr>\n",
       "      <th>1</th>\n",
       "      <td>4c9a6bed-a454-467c-b51e-451f5ee2db35</td>\n",
       "      <td>4</td>\n",
       "      <td>3</td>\n",
       "    </tr>\n",
       "    <tr>\n",
       "      <th>6</th>\n",
       "      <td>c36553d6-0d4a-42d6-a86c-7c8c84049528</td>\n",
       "      <td>2</td>\n",
       "      <td>3</td>\n",
       "    </tr>\n",
       "    <tr>\n",
       "      <th>8</th>\n",
       "      <td>8eea4d43-8c24-4e7e-b542-fef9fe477ec5</td>\n",
       "      <td>4</td>\n",
       "      <td>5</td>\n",
       "    </tr>\n",
       "    <tr>\n",
       "      <th>10</th>\n",
       "      <td>9a13ff22-f414-457b-8e01-e11adea327a9</td>\n",
       "      <td>3</td>\n",
       "      <td>4</td>\n",
       "    </tr>\n",
       "    <tr>\n",
       "      <th>...</th>\n",
       "      <td>...</td>\n",
       "      <td>...</td>\n",
       "      <td>...</td>\n",
       "    </tr>\n",
       "    <tr>\n",
       "      <th>4653</th>\n",
       "      <td>a71181a4-a11f-49cb-b997-bacbc65123f3</td>\n",
       "      <td>3</td>\n",
       "      <td>4</td>\n",
       "    </tr>\n",
       "    <tr>\n",
       "      <th>4655</th>\n",
       "      <td>6805a0e5-306a-4985-a391-ead1b94208d8</td>\n",
       "      <td>3</td>\n",
       "      <td>4</td>\n",
       "    </tr>\n",
       "    <tr>\n",
       "      <th>4656</th>\n",
       "      <td>a83040a4-6949-4915-a863-1a185de4551a</td>\n",
       "      <td>1</td>\n",
       "      <td>2</td>\n",
       "    </tr>\n",
       "    <tr>\n",
       "      <th>4660</th>\n",
       "      <td>eb0a4b02-1d68-4b62-bcaa-1825ce5804d2</td>\n",
       "      <td>3</td>\n",
       "      <td>4</td>\n",
       "    </tr>\n",
       "    <tr>\n",
       "      <th>4661</th>\n",
       "      <td>061be2ba-9c5d-4c19-815c-deb227a9cc68</td>\n",
       "      <td>1</td>\n",
       "      <td>3</td>\n",
       "    </tr>\n",
       "  </tbody>\n",
       "</table>\n",
       "<p>1890 rows × 3 columns</p>\n",
       "</div>"
      ],
      "text/plain": [
       "                                        id  BiRads  best\n",
       "0     8097d218-2c51-4ec8-9ee8-ea6b7701ef3c       2     4\n",
       "1     4c9a6bed-a454-467c-b51e-451f5ee2db35       4     3\n",
       "6     c36553d6-0d4a-42d6-a86c-7c8c84049528       2     3\n",
       "8     8eea4d43-8c24-4e7e-b542-fef9fe477ec5       4     5\n",
       "10    9a13ff22-f414-457b-8e01-e11adea327a9       3     4\n",
       "...                                    ...     ...   ...\n",
       "4653  a71181a4-a11f-49cb-b997-bacbc65123f3       3     4\n",
       "4655  6805a0e5-306a-4985-a391-ead1b94208d8       3     4\n",
       "4656  a83040a4-6949-4915-a863-1a185de4551a       1     2\n",
       "4660  eb0a4b02-1d68-4b62-bcaa-1825ce5804d2       3     4\n",
       "4661  061be2ba-9c5d-4c19-815c-deb227a9cc68       1     3\n",
       "\n",
       "[1890 rows x 3 columns]"
      ]
     },
     "execution_count": 45,
     "metadata": {},
     "output_type": "execute_result"
    }
   ],
   "source": [
    "sub[sub.BiRads != sub.best]"
   ]
  },
  {
   "cell_type": "code",
   "execution_count": 46,
   "metadata": {},
   "outputs": [],
   "source": [
    "sub[['id', 'BiRads']].to_csv('sub_41.csv', index=False)"
   ]
  },
  {
   "cell_type": "code",
   "execution_count": null,
   "metadata": {},
   "outputs": [],
   "source": []
  },
  {
   "cell_type": "code",
   "execution_count": null,
   "metadata": {},
   "outputs": [],
   "source": []
  },
  {
   "cell_type": "code",
   "execution_count": null,
   "metadata": {},
   "outputs": [],
   "source": []
  },
  {
   "cell_type": "code",
   "execution_count": null,
   "metadata": {},
   "outputs": [],
   "source": []
  },
  {
   "cell_type": "code",
   "execution_count": 86,
   "metadata": {},
   "outputs": [],
   "source": [
    "# 11 - 24\n",
    "df = pd.DataFrame()\n",
    "for i in range(11, 25):\n",
    "    df[i] = pd.read_csv('sub_{}.csv'.format(i)).groupby('BiRads').id.count()"
   ]
  },
  {
   "cell_type": "code",
   "execution_count": 91,
   "metadata": {},
   "outputs": [
    {
     "data": {
      "text/plain": [
       "BiRads\n",
       "1     42.0\n",
       "2    104.0\n",
       "3    131.0\n",
       "4    112.0\n",
       "5    133.0\n",
       "dtype: float64"
      ]
     },
     "execution_count": 91,
     "metadata": {},
     "output_type": "execute_result"
    }
   ],
   "source": [
    "np.round(df.std(axis=1))"
   ]
  },
  {
   "cell_type": "code",
   "execution_count": null,
   "metadata": {},
   "outputs": [],
   "source": []
  },
  {
   "cell_type": "code",
   "execution_count": null,
   "metadata": {},
   "outputs": [],
   "source": []
  }
 ],
 "metadata": {
  "kernelspec": {
   "display_name": "Python 3 (ipykernel)",
   "language": "python",
   "name": "python3"
  },
  "language_info": {
   "codemirror_mode": {
    "name": "ipython",
    "version": 3
   },
   "file_extension": ".py",
   "mimetype": "text/x-python",
   "name": "python",
   "nbconvert_exporter": "python",
   "pygments_lexer": "ipython3",
   "version": "3.9.5"
  }
 },
 "nbformat": 4,
 "nbformat_minor": 4
}
