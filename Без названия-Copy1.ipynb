{
 "cells": [
  {
   "cell_type": "code",
   "execution_count": 1,
   "metadata": {},
   "outputs": [],
   "source": [
    "import json\n",
    "\n",
    "import pandas as pd\n",
    "import numpy as np\n",
    "from tqdm import tqdm\n",
    "from sklearn.model_selection import StratifiedKFold, train_test_split, KFold\n",
    "from sklearn.ensemble import RandomForestClassifier, ExtraTreesClassifier, GradientBoostingClassifier\n",
    "from sklearn.svm import SVC\n",
    "from sklearn.metrics import *\n",
    "\n",
    "from imblearn.over_sampling import SMOTE, RandomOverSampler\n",
    "\n",
    "from catboost import CatBoostClassifier, CatBoostRegressor\n",
    "from soreva_metrics import calculate_metrics, macro_averaged_mean_absolute_error"
   ]
  },
  {
   "cell_type": "code",
   "execution_count": 2,
   "metadata": {},
   "outputs": [],
   "source": [
    "symps = [\n",
    "         'artifact',\n",
    "         'calcified cyst',\n",
    "         'calcified vessels',\n",
    "         'calcinates_benign',\n",
    "         'calcinates_malignant',\n",
    "         'fibrocystic_breast_changes',\n",
    "         'lymphonodus',\n",
    "         'mass_benign',\n",
    "         'mass_malignant',\n",
    "         'nipple',\n",
    "         'papilloma',\n",
    "         'pectoral muscle',\n",
    "         'skin_thickening',\n",
    "         'other'\n",
    "        ]"
   ]
  },
  {
   "cell_type": "code",
   "execution_count": 3,
   "metadata": {},
   "outputs": [],
   "source": [
    "def extract_basic_features(breast):\n",
    "    \n",
    "    predictors = {}\n",
    "\n",
    "    \n",
    "# ---------------------------------\n",
    "# Every model and view\n",
    "\n",
    "\n",
    "    for key in ['patient_id', 'laterality', 'tissue_density_predicted', 'cancer_probability_predicted']:\n",
    "        predictors[key] = breast[key]\n",
    "    \n",
    "    for view in [\"CC\", \"MLO\"]:\n",
    "        for modl in [1, 2, 3]:\n",
    "            for symp in symps:\n",
    "                for agg in ['min', 'max', 'mean', 'median', 'sum', 'count']:\n",
    "                    predictors[view+'_'+str(modl)+'_'+symp+'_'+agg] = 0.0\n",
    "                    \n",
    "    for view in [\"CC\", \"MLO\"]:\n",
    "        for modl in [1, 2, 3]:\n",
    "            for symp in symps:\n",
    "                for agg in ['min', 'max', 'mean', 'median', 'sum']:\n",
    "                    predictors['square_'+view+'_'+str(modl)+'_'+symp+'_'+agg] = 0.0\n",
    "                    \n",
    "    for view in [\"CC\", \"MLO\"]:\n",
    "        for modl in [1, 2, 3]:\n",
    "            for symp in symps:\n",
    "                for agg in ['min', 'max', 'mean', 'median', 'sum']:\n",
    "                    predictors['prob_square_'+view+'_'+str(modl)+'_'+symp+'_'+agg] = 0.0\n",
    "                    \n",
    "#     for view in [\"CC\", \"MLO\"]:\n",
    "#         for modl in [1, 2, 3]:\n",
    "#             for symp in symps:\n",
    "#                 for agg in ['min', 'max', 'mean', 'median']:\n",
    "#                     predictors['xx_'+view+'_'+str(modl)+'_'+symp+'_'+agg] = 0.0\n",
    "#                     predictors['yy_'+view+'_'+str(modl)+'_'+symp+'_'+agg] = 0.0\n",
    "\n",
    "                \n",
    "    for view in [\"CC\", \"MLO\"]:\n",
    "        \n",
    "        for modl in [1, 2, 3]:\n",
    "        \n",
    "            for symp in symps:\n",
    "            \n",
    "                objs_probs = [obj['probability'] for obj in breast[view] if symp in obj['object_type'] \n",
    "                              and obj['model_number'] == modl]\n",
    "                \n",
    "                objs_coords = [obj['coordinates'] for obj in breast[view] if symp in obj[\"object_type\"]\n",
    "                               and obj['model_number'] == modl]\n",
    "            \n",
    "                if objs_probs:\n",
    "                    \n",
    "                    predictors[view+'_'+str(modl)+'_'+symp+'_min'] = np.min(objs_probs)\n",
    "                    predictors[view+'_'+str(modl)+'_'+symp+'_max'] = np.max(objs_probs)\n",
    "                    predictors[view+'_'+str(modl)+'_'+symp+'_mean'] = np.mean(objs_probs)\n",
    "                    predictors[view+'_'+str(modl)+'_'+symp+'_median'] = np.median(objs_probs)\n",
    "                    predictors[view+'_'+str(modl)+'_'+symp+'_sum'] = np.sum(objs_probs)\n",
    "                    predictors[view+'_'+str(modl)+'_'+symp+'_count'] = len(objs_probs)\n",
    "                    \n",
    "                    objs_squares = [(cord[2] - cord[0])*(cord[3] - cord[1]) for cord in objs_coords]\n",
    "                    \n",
    "                    predictors['square_'+view+'_'+str(modl)+'_'+symp+'_min'] = np.min(objs_squares)\n",
    "                    predictors['square_'+view+'_'+str(modl)+'_'+symp+'_max'] = np.max(objs_squares)\n",
    "                    predictors['square_'+view+'_'+str(modl)+'_'+symp+'_mean'] = np.mean(objs_squares)\n",
    "                    predictors['square_'+view+'_'+str(modl)+'_'+symp+'_median'] = np.median(objs_squares)\n",
    "                    predictors['square_'+view+'_'+str(modl)+'_'+symp+'_sum'] = np.sum(objs_squares)\n",
    "                    \n",
    "                    objs_probs_squares = [sq*prob for sq, prob in zip(objs_squares, objs_probs)]\n",
    "                    \n",
    "                    predictors['prob_square_'+view+'_'+str(modl)+'_'+symp+'_min'] = np.min(objs_probs_squares)\n",
    "                    predictors['prob_square_'+view+'_'+str(modl)+'_'+symp+'_max'] = np.max(objs_probs_squares)\n",
    "                    predictors['prob_square_'+view+'_'+str(modl)+'_'+symp+'_mean'] = np.mean(objs_probs_squares)\n",
    "                    predictors['prob_square_'+view+'_'+str(modl)+'_'+symp+'_median'] = np.median(objs_probs_squares)\n",
    "                    predictors['prob_square_'+view+'_'+str(modl)+'_'+symp+'_sum'] = np.sum(objs_probs_squares)\n",
    "                    \n",
    "#                     objs_xx = [(cord[2] + cord[0]) / 2 for cord in objs_coords]\n",
    "                    \n",
    "#                     predictors['xx_'+view+'_'+str(modl)+'_'+symp+'_min'] = np.min(objs_xx)\n",
    "#                     predictors['xx_'+view+'_'+str(modl)+'_'+symp+'_max'] = np.max(objs_xx)\n",
    "#                     predictors['xx_'+view+'_'+str(modl)+'_'+symp+'_mean'] = np.mean(objs_xx)\n",
    "#                     predictors['xx_'+view+'_'+str(modl)+'_'+symp+'_median'] = np.median(objs_xx)\n",
    "                    \n",
    "#                     objs_yy = [(cord[3] + cord[1]) / 2 for cord in objs_coords]\n",
    "                    \n",
    "#                     predictors['yy_'+view+'_'+str(modl)+'_'+symp+'_min'] = np.min(objs_yy)\n",
    "#                     predictors['yy_'+view+'_'+str(modl)+'_'+symp+'_max'] = np.max(objs_yy)\n",
    "#                     predictors['yy_'+view+'_'+str(modl)+'_'+symp+'_mean'] = np.mean(objs_yy)\n",
    "#                     predictors['yy_'+view+'_'+str(modl)+'_'+symp+'_median'] = np.median(objs_yy)\n",
    "  \n",
    "    return predictors"
   ]
  },
  {
   "cell_type": "code",
   "execution_count": 4,
   "metadata": {},
   "outputs": [
    {
     "name": "stderr",
     "output_type": "stream",
     "text": [
      "100%|██████████████████████████████████████| 4063/4063 [00:17<00:00, 228.18it/s]\n"
     ]
    }
   ],
   "source": [
    "with open(\"data_train/data_train.json\", \"r\") as fin:\n",
    "    data_train = json.load(fin)\n",
    "\n",
    "targets_train = pd.read_csv(\"data_train/targets_train.csv\", index_col=0)\n",
    "\n",
    "predictors = {}\n",
    "for key, value in tqdm(data_train.items()):\n",
    "    predictors[key] = extract_basic_features(value)\n",
    "\n",
    "df_train = pd.DataFrame.from_dict(predictors, orient=\"index\")\n",
    "df_train = pd.merge(df_train, targets_train, left_index=True, right_index=True)\n",
    "\n",
    "df_train.loc[df_train.laterality == 'L', 'laterality'] = 0\n",
    "df_train.loc[df_train.laterality == 'R', 'laterality'] = 1\n",
    "df_train['laterality'] = df_train['laterality'].astype(int)"
   ]
  },
  {
   "cell_type": "code",
   "execution_count": 5,
   "metadata": {},
   "outputs": [],
   "source": [
    "# 1 - маммограммы без патологии\n",
    "# 2 - маммограммы с доброкачественным изменениями\n",
    "\n",
    "# 3 - маммограммы с доброкачественными изменениями, с подозрением на рак не более 2%\n",
    "\n",
    "# 4 - маммограммы с подозрением на злокачественные изменения (от 2% до 94%)\n",
    "# 5 - маммограммы с подозрением на злокачественные изменения (более 95%)"
   ]
  },
  {
   "cell_type": "code",
   "execution_count": 203,
   "metadata": {},
   "outputs": [],
   "source": [
    "y_transformed = df_train.BiRads.copy()\n",
    "# 1 - withouth pathology \n",
    "# 2 - with pathology \n",
    "y_transformed[y_transformed == 2] = 1\n",
    "y_transformed[y_transformed == 3] = 3\n",
    "y_transformed[y_transformed == 4] = 3\n",
    "y_transformed[y_transformed == 5] = 3"
   ]
  },
  {
   "cell_type": "code",
   "execution_count": 204,
   "metadata": {},
   "outputs": [
    {
     "data": {
      "text/plain": [
       "BiRads\n",
       "1    1490\n",
       "2    2419\n",
       "3     104\n",
       "4      44\n",
       "5       6\n",
       "Name: laterality, dtype: int64"
      ]
     },
     "execution_count": 204,
     "metadata": {},
     "output_type": "execute_result"
    }
   ],
   "source": [
    "df_train.groupby('BiRads').laterality.count()"
   ]
  },
  {
   "cell_type": "code",
   "execution_count": 205,
   "metadata": {},
   "outputs": [
    {
     "data": {
      "text/plain": [
       "BiRads\n",
       "1    3909\n",
       "3     154\n",
       "Name: index, dtype: int64"
      ]
     },
     "execution_count": 205,
     "metadata": {},
     "output_type": "execute_result"
    }
   ],
   "source": [
    "y_transformed.reset_index().groupby('BiRads').index.count()"
   ]
  },
  {
   "cell_type": "code",
   "execution_count": 206,
   "metadata": {},
   "outputs": [],
   "source": [
    "X = df_train.drop(['BiRads',\n",
    "                   'patient_id',\n",
    "#                   'laterality'\n",
    "                  ], axis=1)\n",
    "# y = df_train['BiRads']\n",
    "y = y_transformed"
   ]
  },
  {
   "cell_type": "code",
   "execution_count": 207,
   "metadata": {},
   "outputs": [
    {
     "data": {
      "text/plain": [
       "(4063, 1347)"
      ]
     },
     "execution_count": 207,
     "metadata": {},
     "output_type": "execute_result"
    }
   ],
   "source": [
    "X.shape"
   ]
  },
  {
   "cell_type": "code",
   "execution_count": 208,
   "metadata": {},
   "outputs": [],
   "source": [
    "X_train, X_val, y_train, y_val = train_test_split(X, y.values, \n",
    "                                                  stratify=y, \n",
    "                                                  test_size=0.1)"
   ]
  },
  {
   "cell_type": "code",
   "execution_count": 209,
   "metadata": {},
   "outputs": [
    {
     "name": "stdout",
     "output_type": "stream",
     "text": [
      "Learning rate set to 0.043649\n",
      "0:\tlearn: 0.6261728\ttest: 0.6254611\tbest: 0.6254611 (0)\ttotal: 99.3ms\tremaining: 1m 39s\n",
      "100:\tlearn: 0.0906458\ttest: 0.1389621\tbest: 0.1386544 (91)\ttotal: 3.15s\tremaining: 28.1s\n",
      "200:\tlearn: 0.0652911\ttest: 0.1363719\tbest: 0.1362558 (138)\ttotal: 6.05s\tremaining: 24.1s\n",
      "300:\tlearn: 0.0483133\ttest: 0.1369281\tbest: 0.1358874 (253)\ttotal: 8.97s\tremaining: 20.8s\n",
      "400:\tlearn: 0.0365013\ttest: 0.1375287\tbest: 0.1358874 (253)\ttotal: 12.1s\tremaining: 18s\n",
      "500:\tlearn: 0.0286055\ttest: 0.1383740\tbest: 0.1358874 (253)\ttotal: 15s\tremaining: 15s\n",
      "Stopped by overfitting detector  (250 iterations wait)\n",
      "\n",
      "bestTest = 0.135887428\n",
      "bestIteration = 253\n",
      "\n",
      "Shrink model to first 254 iterations.\n"
     ]
    },
    {
     "data": {
      "text/plain": [
       "<catboost.core.CatBoostClassifier at 0x19af99220>"
      ]
     },
     "execution_count": 209,
     "metadata": {},
     "output_type": "execute_result"
    }
   ],
   "source": [
    "model = CatBoostClassifier(early_stopping_rounds=250, verbose=100)\n",
    "\n",
    "model.fit(X_train, y_train, eval_set=(X_val, y_val),\n",
    "          cat_features=['laterality']\n",
    "         )"
   ]
  },
  {
   "cell_type": "code",
   "execution_count": 210,
   "metadata": {},
   "outputs": [
    {
     "name": "stderr",
     "output_type": "stream",
     "text": [
      "100%|██████████████████████████████████████| 4663/4663 [00:21<00:00, 220.04it/s]\n"
     ]
    }
   ],
   "source": [
    "with open(\"data_test/data_test.json\", \"r\") as fin:\n",
    "    data_test = json.load(fin)\n",
    "\n",
    "predictors_test = {}\n",
    "for key, value in tqdm(data_test.items()):\n",
    "    predictors_test[key] = extract_basic_features(value)\n",
    "\n",
    "df_test = pd.DataFrame.from_dict(predictors_test, orient=\"index\")\n",
    "\n",
    "df_test.loc[df_test.laterality == 'L', 'laterality'] = 0\n",
    "df_test.loc[df_test.laterality == 'R', 'laterality'] = 1\n",
    "df_test['laterality'] = df_test['laterality'].astype(int)"
   ]
  },
  {
   "cell_type": "code",
   "execution_count": 211,
   "metadata": {},
   "outputs": [],
   "source": [
    "df_test = df_test.drop(['patient_id'], axis=1)"
   ]
  },
  {
   "cell_type": "code",
   "execution_count": 212,
   "metadata": {},
   "outputs": [],
   "source": [
    "preds = model.predict_proba(df_test)"
   ]
  },
  {
   "cell_type": "code",
   "execution_count": 213,
   "metadata": {},
   "outputs": [
    {
     "data": {
      "text/plain": [
       "0.7184460143079641"
      ]
     },
     "execution_count": 213,
     "metadata": {},
     "output_type": "execute_result"
    }
   ],
   "source": [
    "preds[:, 1].max()"
   ]
  },
  {
   "cell_type": "code",
   "execution_count": 214,
   "metadata": {},
   "outputs": [],
   "source": [
    "preds_ = []\n",
    "\n",
    "for pred in preds:\n",
    "    \n",
    "    max_pred = np.where(pred == pred.max())[0][0]\n",
    "    \n",
    "    if pred[1] > 0.021:\n",
    "        preds_.append(3)\n",
    "        \n",
    "    else:\n",
    "        preds_.append(1)"
   ]
  },
  {
   "cell_type": "code",
   "execution_count": 215,
   "metadata": {},
   "outputs": [],
   "source": [
    "# preds_ = model.predict(df_test)"
   ]
  },
  {
   "cell_type": "code",
   "execution_count": 216,
   "metadata": {},
   "outputs": [],
   "source": [
    "sub = pd.read_csv('sample_submit.csv')"
   ]
  },
  {
   "cell_type": "code",
   "execution_count": 217,
   "metadata": {},
   "outputs": [],
   "source": [
    "sub['BiRads'] = preds_\n",
    "sub['best'] = pd.read_csv('sub_18.csv')['BiRads']"
   ]
  },
  {
   "cell_type": "code",
   "execution_count": 218,
   "metadata": {},
   "outputs": [
    {
     "data": {
      "text/plain": [
       "BiRads\n",
       "1    2727\n",
       "3    1936\n",
       "Name: id, dtype: int64"
      ]
     },
     "execution_count": 218,
     "metadata": {},
     "output_type": "execute_result"
    }
   ],
   "source": [
    "sub.groupby('BiRads').id.count()"
   ]
  },
  {
   "cell_type": "code",
   "execution_count": 219,
   "metadata": {},
   "outputs": [
    {
     "data": {
      "text/plain": [
       "best\n",
       "1     937\n",
       "2    1175\n",
       "3    1034\n",
       "4    1303\n",
       "5     214\n",
       "Name: id, dtype: int64"
      ]
     },
     "execution_count": 219,
     "metadata": {},
     "output_type": "execute_result"
    }
   ],
   "source": [
    "sub.groupby('best').id.count()"
   ]
  },
  {
   "cell_type": "code",
   "execution_count": null,
   "metadata": {},
   "outputs": [],
   "source": []
  },
  {
   "cell_type": "code",
   "execution_count": null,
   "metadata": {},
   "outputs": [],
   "source": []
  },
  {
   "cell_type": "code",
   "execution_count": null,
   "metadata": {},
   "outputs": [],
   "source": []
  },
  {
   "cell_type": "code",
   "execution_count": 220,
   "metadata": {},
   "outputs": [],
   "source": [
    "y_transformed = df_train.BiRads.copy()\n",
    "y_transformed = y_transformed\n",
    "# 2 - benign tumor\n",
    "# 4 - malignant tumor\n",
    "y_transformed[y_transformed == 1] = 1\n",
    "y_transformed[y_transformed == 2] = 2\n",
    "y_transformed[y_transformed == 3] = 3\n",
    "y_transformed[y_transformed == 4] = 4\n",
    "y_transformed[y_transformed == 5] = 5"
   ]
  },
  {
   "cell_type": "code",
   "execution_count": 221,
   "metadata": {},
   "outputs": [
    {
     "data": {
      "text/plain": [
       "BiRads\n",
       "1    1490\n",
       "2    2419\n",
       "3     104\n",
       "4      44\n",
       "5       6\n",
       "Name: laterality, dtype: int64"
      ]
     },
     "execution_count": 221,
     "metadata": {},
     "output_type": "execute_result"
    }
   ],
   "source": [
    "df_train.groupby('BiRads').laterality.count()"
   ]
  },
  {
   "cell_type": "code",
   "execution_count": 222,
   "metadata": {},
   "outputs": [
    {
     "data": {
      "text/plain": [
       "BiRads\n",
       "1    1490\n",
       "2    2419\n",
       "3     104\n",
       "4      44\n",
       "5       6\n",
       "Name: index, dtype: int64"
      ]
     },
     "execution_count": 222,
     "metadata": {},
     "output_type": "execute_result"
    }
   ],
   "source": [
    "y_transformed.reset_index().groupby('BiRads').index.count()"
   ]
  },
  {
   "cell_type": "code",
   "execution_count": 223,
   "metadata": {},
   "outputs": [],
   "source": [
    "X = df_train[df_train.BiRads < 3].drop(['BiRads', 'patient_id'], axis=1)\n",
    "\n",
    "y = y_transformed[y_transformed < 3]"
   ]
  },
  {
   "cell_type": "code",
   "execution_count": 224,
   "metadata": {},
   "outputs": [
    {
     "data": {
      "text/plain": [
       "(3909, 1347)"
      ]
     },
     "execution_count": 224,
     "metadata": {},
     "output_type": "execute_result"
    }
   ],
   "source": [
    "X.shape"
   ]
  },
  {
   "cell_type": "code",
   "execution_count": 225,
   "metadata": {},
   "outputs": [],
   "source": [
    "X_train, X_val, y_train, y_val = train_test_split(X, y.values, \n",
    "                                                  stratify=y, \n",
    "                                                  test_size=0.1)"
   ]
  },
  {
   "cell_type": "code",
   "execution_count": 226,
   "metadata": {},
   "outputs": [
    {
     "name": "stdout",
     "output_type": "stream",
     "text": [
      "Learning rate set to 0.043236\n",
      "0:\tlearn: 0.6860115\ttest: 0.6862585\tbest: 0.6862585 (0)\ttotal: 55.9ms\tremaining: 55.8s\n",
      "100:\tlearn: 0.4979934\ttest: 0.5723963\tbest: 0.5723865 (90)\ttotal: 3.15s\tremaining: 28s\n",
      "200:\tlearn: 0.4227118\ttest: 0.5677072\tbest: 0.5658508 (189)\ttotal: 5.94s\tremaining: 23.6s\n",
      "300:\tlearn: 0.3488134\ttest: 0.5700980\tbest: 0.5658508 (189)\ttotal: 8.71s\tremaining: 20.2s\n",
      "400:\tlearn: 0.2848293\ttest: 0.5696200\tbest: 0.5658508 (189)\ttotal: 11.7s\tremaining: 17.4s\n",
      "Stopped by overfitting detector  (250 iterations wait)\n",
      "\n",
      "bestTest = 0.5658508207\n",
      "bestIteration = 189\n",
      "\n",
      "Shrink model to first 190 iterations.\n"
     ]
    },
    {
     "data": {
      "text/plain": [
       "<catboost.core.CatBoostClassifier at 0x1cd874970>"
      ]
     },
     "execution_count": 226,
     "metadata": {},
     "output_type": "execute_result"
    }
   ],
   "source": [
    "model = CatBoostClassifier(early_stopping_rounds=250, verbose=100)\n",
    "\n",
    "model.fit(X_train, y_train, eval_set=(X_val, y_val),\n",
    "          cat_features=['laterality']\n",
    "         )"
   ]
  },
  {
   "cell_type": "code",
   "execution_count": 227,
   "metadata": {},
   "outputs": [],
   "source": [
    "preds = model.predict_proba(df_test.iloc[sub[sub.BiRads < 3].index])"
   ]
  },
  {
   "cell_type": "code",
   "execution_count": 228,
   "metadata": {},
   "outputs": [
    {
     "data": {
      "text/plain": [
       "0.960959801066722"
      ]
     },
     "execution_count": 228,
     "metadata": {},
     "output_type": "execute_result"
    }
   ],
   "source": [
    "preds[:, 1].max()"
   ]
  },
  {
   "cell_type": "code",
   "execution_count": 229,
   "metadata": {},
   "outputs": [],
   "source": [
    "preds_ = []\n",
    "\n",
    "for pred in preds:\n",
    "    \n",
    "    max_pred = np.where(pred == pred.max())[0][0]\n",
    "    \n",
    "    if pred[1] > 0.5:\n",
    "        preds_.append(2)\n",
    "        \n",
    "    else:\n",
    "        preds_.append(1)"
   ]
  },
  {
   "cell_type": "code",
   "execution_count": 230,
   "metadata": {},
   "outputs": [],
   "source": [
    "# preds_ = model.predict(df_test)"
   ]
  },
  {
   "cell_type": "code",
   "execution_count": 231,
   "metadata": {},
   "outputs": [],
   "source": [
    "# sub = pd.read_csv('sample_submit.csv')"
   ]
  },
  {
   "cell_type": "code",
   "execution_count": 232,
   "metadata": {},
   "outputs": [],
   "source": [
    "sub.loc[sub.BiRads < 3, 'BiRads'] = preds_\n",
    "# sub2['best'] = pd.read_csv('sub_18.csv')['BiRads']"
   ]
  },
  {
   "cell_type": "code",
   "execution_count": 233,
   "metadata": {},
   "outputs": [
    {
     "data": {
      "text/plain": [
       "BiRads\n",
       "1     944\n",
       "2    1783\n",
       "3    1936\n",
       "Name: id, dtype: int64"
      ]
     },
     "execution_count": 233,
     "metadata": {},
     "output_type": "execute_result"
    }
   ],
   "source": [
    "sub.groupby('BiRads').id.count()"
   ]
  },
  {
   "cell_type": "code",
   "execution_count": 234,
   "metadata": {},
   "outputs": [
    {
     "data": {
      "text/plain": [
       "best\n",
       "1     937\n",
       "2    1175\n",
       "3    1034\n",
       "4    1303\n",
       "5     214\n",
       "Name: id, dtype: int64"
      ]
     },
     "execution_count": 234,
     "metadata": {},
     "output_type": "execute_result"
    }
   ],
   "source": [
    "sub.groupby('best').id.count()"
   ]
  },
  {
   "cell_type": "code",
   "execution_count": null,
   "metadata": {},
   "outputs": [],
   "source": []
  },
  {
   "cell_type": "code",
   "execution_count": null,
   "metadata": {},
   "outputs": [],
   "source": []
  },
  {
   "cell_type": "code",
   "execution_count": null,
   "metadata": {},
   "outputs": [],
   "source": []
  },
  {
   "cell_type": "code",
   "execution_count": 235,
   "metadata": {},
   "outputs": [],
   "source": [
    "y_transformed = df_train.BiRads.copy()\n",
    "y_transformed = y_transformed\n",
    "# 2 - benign tumor\n",
    "# 4 - malignant tumor\n",
    "y_transformed[y_transformed == 1] = 1\n",
    "y_transformed[y_transformed == 2] = 2\n",
    "y_transformed[y_transformed == 3] = 3\n",
    "y_transformed[y_transformed == 4] = 4\n",
    "y_transformed[y_transformed == 5] = 4"
   ]
  },
  {
   "cell_type": "code",
   "execution_count": 236,
   "metadata": {},
   "outputs": [
    {
     "data": {
      "text/plain": [
       "BiRads\n",
       "1    1490\n",
       "2    2419\n",
       "3     104\n",
       "4      44\n",
       "5       6\n",
       "Name: laterality, dtype: int64"
      ]
     },
     "execution_count": 236,
     "metadata": {},
     "output_type": "execute_result"
    }
   ],
   "source": [
    "df_train.groupby('BiRads').laterality.count()"
   ]
  },
  {
   "cell_type": "code",
   "execution_count": 237,
   "metadata": {},
   "outputs": [
    {
     "data": {
      "text/plain": [
       "BiRads\n",
       "1    1490\n",
       "2    2419\n",
       "3     104\n",
       "4      50\n",
       "Name: index, dtype: int64"
      ]
     },
     "execution_count": 237,
     "metadata": {},
     "output_type": "execute_result"
    }
   ],
   "source": [
    "y_transformed.reset_index().groupby('BiRads').index.count()"
   ]
  },
  {
   "cell_type": "code",
   "execution_count": 238,
   "metadata": {},
   "outputs": [],
   "source": [
    "X = df_train[df_train.BiRads > 2].drop(['BiRads', 'patient_id'], axis=1)\n",
    "\n",
    "y = y_transformed[y_transformed > 2]"
   ]
  },
  {
   "cell_type": "code",
   "execution_count": 239,
   "metadata": {},
   "outputs": [
    {
     "data": {
      "text/plain": [
       "(154, 1347)"
      ]
     },
     "execution_count": 239,
     "metadata": {},
     "output_type": "execute_result"
    }
   ],
   "source": [
    "X.shape"
   ]
  },
  {
   "cell_type": "code",
   "execution_count": 240,
   "metadata": {},
   "outputs": [],
   "source": [
    "X_train, X_val, y_train, y_val = train_test_split(X, y.values, \n",
    "                                                  stratify=y, \n",
    "                                                  test_size=0.1)"
   ]
  },
  {
   "cell_type": "code",
   "execution_count": 241,
   "metadata": {},
   "outputs": [
    {
     "name": "stdout",
     "output_type": "stream",
     "text": [
      "Learning rate set to 0.019429\n",
      "0:\tlearn: 0.6851329\ttest: 0.6928283\tbest: 0.6928283 (0)\ttotal: 17.4ms\tremaining: 17.4s\n",
      "100:\tlearn: 0.2678772\ttest: 0.5503681\tbest: 0.5503681 (100)\ttotal: 1.28s\tremaining: 11.4s\n",
      "200:\tlearn: 0.1339954\ttest: 0.5364962\tbest: 0.5324546 (142)\ttotal: 2.57s\tremaining: 10.2s\n",
      "300:\tlearn: 0.0685725\ttest: 0.5346941\tbest: 0.5324183 (276)\ttotal: 3.87s\tremaining: 8.98s\n",
      "400:\tlearn: 0.0354240\ttest: 0.5170020\tbest: 0.5138733 (394)\ttotal: 5.21s\tremaining: 7.78s\n",
      "500:\tlearn: 0.0210467\ttest: 0.5224427\tbest: 0.5138733 (394)\ttotal: 6.48s\tremaining: 6.46s\n",
      "600:\tlearn: 0.0144250\ttest: 0.5379256\tbest: 0.5138733 (394)\ttotal: 7.82s\tremaining: 5.19s\n",
      "Stopped by overfitting detector  (250 iterations wait)\n",
      "\n",
      "bestTest = 0.5138732623\n",
      "bestIteration = 394\n",
      "\n",
      "Shrink model to first 395 iterations.\n"
     ]
    },
    {
     "data": {
      "text/plain": [
       "<catboost.core.CatBoostClassifier at 0x1cd65a820>"
      ]
     },
     "execution_count": 241,
     "metadata": {},
     "output_type": "execute_result"
    }
   ],
   "source": [
    "model = CatBoostClassifier(early_stopping_rounds=250, verbose=100)\n",
    "\n",
    "model.fit(X_train, y_train, eval_set=(X_val, y_val),\n",
    "          cat_features=['laterality']\n",
    "         )"
   ]
  },
  {
   "cell_type": "code",
   "execution_count": 242,
   "metadata": {},
   "outputs": [],
   "source": [
    "preds = model.predict_proba(df_test.iloc[sub[sub.BiRads > 2].index])"
   ]
  },
  {
   "cell_type": "code",
   "execution_count": 243,
   "metadata": {},
   "outputs": [
    {
     "data": {
      "text/plain": [
       "0.7630884105623508"
      ]
     },
     "execution_count": 243,
     "metadata": {},
     "output_type": "execute_result"
    }
   ],
   "source": [
    "preds[:, 1].max()"
   ]
  },
  {
   "cell_type": "code",
   "execution_count": 244,
   "metadata": {},
   "outputs": [],
   "source": [
    "preds_ = []\n",
    "\n",
    "for pred in preds:\n",
    "    \n",
    "    max_pred = np.where(pred == pred.max())[0][0]\n",
    "    \n",
    "    if pred[1] > 0.3:\n",
    "        preds_.append(4)\n",
    "        \n",
    "    else:\n",
    "        preds_.append(3)"
   ]
  },
  {
   "cell_type": "code",
   "execution_count": 245,
   "metadata": {},
   "outputs": [],
   "source": [
    "# preds_ = model.predict(df_test)"
   ]
  },
  {
   "cell_type": "code",
   "execution_count": 246,
   "metadata": {},
   "outputs": [],
   "source": [
    "# sub = pd.read_csv('sample_submit.csv')"
   ]
  },
  {
   "cell_type": "code",
   "execution_count": 247,
   "metadata": {},
   "outputs": [],
   "source": [
    "sub.loc[sub.BiRads > 2, 'BiRads'] = preds_\n",
    "# sub2['best'] = pd.read_csv('sub_18.csv')['BiRads']"
   ]
  },
  {
   "cell_type": "code",
   "execution_count": 248,
   "metadata": {},
   "outputs": [
    {
     "data": {
      "text/plain": [
       "BiRads\n",
       "1     944\n",
       "2    1783\n",
       "3    1484\n",
       "4     452\n",
       "Name: id, dtype: int64"
      ]
     },
     "execution_count": 248,
     "metadata": {},
     "output_type": "execute_result"
    }
   ],
   "source": [
    "sub.groupby('BiRads').id.count()"
   ]
  },
  {
   "cell_type": "code",
   "execution_count": 249,
   "metadata": {},
   "outputs": [
    {
     "data": {
      "text/plain": [
       "best\n",
       "1     937\n",
       "2    1175\n",
       "3    1034\n",
       "4    1303\n",
       "5     214\n",
       "Name: id, dtype: int64"
      ]
     },
     "execution_count": 249,
     "metadata": {},
     "output_type": "execute_result"
    }
   ],
   "source": [
    "sub.groupby('best').id.count()"
   ]
  },
  {
   "cell_type": "code",
   "execution_count": null,
   "metadata": {},
   "outputs": [],
   "source": []
  },
  {
   "cell_type": "code",
   "execution_count": null,
   "metadata": {},
   "outputs": [],
   "source": []
  },
  {
   "cell_type": "code",
   "execution_count": null,
   "metadata": {},
   "outputs": [],
   "source": []
  },
  {
   "cell_type": "code",
   "execution_count": 250,
   "metadata": {},
   "outputs": [],
   "source": [
    "y_transformed = df_train.BiRads.copy()\n",
    "y_transformed = y_transformed\n",
    "# 2 - benign tumor\n",
    "# 4 - malignant tumor\n",
    "y_transformed[y_transformed == 1] = 1\n",
    "y_transformed[y_transformed == 2] = 2\n",
    "y_transformed[y_transformed == 3] = 3\n",
    "y_transformed[y_transformed == 4] = 4\n",
    "y_transformed[y_transformed == 5] = 5"
   ]
  },
  {
   "cell_type": "code",
   "execution_count": 251,
   "metadata": {},
   "outputs": [
    {
     "data": {
      "text/plain": [
       "BiRads\n",
       "1    1490\n",
       "2    2419\n",
       "3     104\n",
       "4      44\n",
       "5       6\n",
       "Name: laterality, dtype: int64"
      ]
     },
     "execution_count": 251,
     "metadata": {},
     "output_type": "execute_result"
    }
   ],
   "source": [
    "df_train.groupby('BiRads').laterality.count()"
   ]
  },
  {
   "cell_type": "code",
   "execution_count": 252,
   "metadata": {},
   "outputs": [
    {
     "data": {
      "text/plain": [
       "BiRads\n",
       "1    1490\n",
       "2    2419\n",
       "3     104\n",
       "4      44\n",
       "5       6\n",
       "Name: index, dtype: int64"
      ]
     },
     "execution_count": 252,
     "metadata": {},
     "output_type": "execute_result"
    }
   ],
   "source": [
    "y_transformed.reset_index().groupby('BiRads').index.count()"
   ]
  },
  {
   "cell_type": "code",
   "execution_count": 253,
   "metadata": {},
   "outputs": [],
   "source": [
    "X = df_train[df_train.BiRads > 3].drop(['BiRads', 'patient_id'], axis=1)\n",
    "\n",
    "y = y_transformed[y_transformed > 3]"
   ]
  },
  {
   "cell_type": "code",
   "execution_count": 254,
   "metadata": {},
   "outputs": [
    {
     "data": {
      "text/plain": [
       "(50, 1347)"
      ]
     },
     "execution_count": 254,
     "metadata": {},
     "output_type": "execute_result"
    }
   ],
   "source": [
    "X.shape"
   ]
  },
  {
   "cell_type": "code",
   "execution_count": 255,
   "metadata": {},
   "outputs": [],
   "source": [
    "X_train, X_val, y_train, y_val = train_test_split(X, y.values, \n",
    "                                                  stratify=y, \n",
    "                                                  test_size=0.1)"
   ]
  },
  {
   "cell_type": "code",
   "execution_count": 256,
   "metadata": {},
   "outputs": [
    {
     "name": "stdout",
     "output_type": "stream",
     "text": [
      "Learning rate set to 0.014732\n",
      "0:\tlearn: 0.6810908\ttest: 0.6910016\tbest: 0.6910016 (0)\ttotal: 6.98ms\tremaining: 6.97s\n",
      "100:\tlearn: 0.1691429\ttest: 0.5547019\tbest: 0.5471471 (91)\ttotal: 834ms\tremaining: 7.42s\n",
      "200:\tlearn: 0.0688363\ttest: 0.6214378\tbest: 0.5471471 (91)\ttotal: 1.61s\tremaining: 6.4s\n",
      "300:\tlearn: 0.0351085\ttest: 0.7104491\tbest: 0.5471471 (91)\ttotal: 2.27s\tremaining: 5.28s\n",
      "Stopped by overfitting detector  (250 iterations wait)\n",
      "\n",
      "bestTest = 0.5471470568\n",
      "bestIteration = 91\n",
      "\n",
      "Shrink model to first 92 iterations.\n"
     ]
    },
    {
     "data": {
      "text/plain": [
       "<catboost.core.CatBoostClassifier at 0x1bfa03490>"
      ]
     },
     "execution_count": 256,
     "metadata": {},
     "output_type": "execute_result"
    }
   ],
   "source": [
    "model = CatBoostClassifier(early_stopping_rounds=250, verbose=100)\n",
    "\n",
    "model.fit(X_train, y_train, eval_set=(X_val, y_val),\n",
    "          cat_features=['laterality']\n",
    "         )"
   ]
  },
  {
   "cell_type": "code",
   "execution_count": 257,
   "metadata": {},
   "outputs": [],
   "source": [
    "preds = model.predict_proba(df_test.iloc[sub[sub.BiRads > 3].index])"
   ]
  },
  {
   "cell_type": "code",
   "execution_count": 258,
   "metadata": {},
   "outputs": [
    {
     "data": {
      "text/plain": [
       "0.37288519076337967"
      ]
     },
     "execution_count": 258,
     "metadata": {},
     "output_type": "execute_result"
    }
   ],
   "source": [
    "preds[:, 1].max()"
   ]
  },
  {
   "cell_type": "code",
   "execution_count": 259,
   "metadata": {},
   "outputs": [],
   "source": [
    "preds_ = []\n",
    "\n",
    "for pred in preds:\n",
    "    \n",
    "    max_pred = np.where(pred == pred.max())[0][0]\n",
    "    \n",
    "    if pred[1] > 0.2:\n",
    "        preds_.append(5)\n",
    "        \n",
    "    else:\n",
    "        preds_.append(4)"
   ]
  },
  {
   "cell_type": "code",
   "execution_count": 260,
   "metadata": {},
   "outputs": [],
   "source": [
    "# preds_ = model.predict(df_test)"
   ]
  },
  {
   "cell_type": "code",
   "execution_count": 261,
   "metadata": {},
   "outputs": [],
   "source": [
    "# sub = pd.read_csv('sample_submit.csv')"
   ]
  },
  {
   "cell_type": "code",
   "execution_count": 262,
   "metadata": {},
   "outputs": [],
   "source": [
    "sub.loc[sub.BiRads > 3, 'BiRads'] = preds_\n",
    "# sub2['best'] = pd.read_csv('sub_18.csv')['BiRads']"
   ]
  },
  {
   "cell_type": "code",
   "execution_count": 263,
   "metadata": {},
   "outputs": [
    {
     "data": {
      "text/plain": [
       "BiRads\n",
       "1     944\n",
       "2    1783\n",
       "3    1484\n",
       "4     170\n",
       "5     282\n",
       "Name: id, dtype: int64"
      ]
     },
     "execution_count": 263,
     "metadata": {},
     "output_type": "execute_result"
    }
   ],
   "source": [
    "sub.groupby('BiRads').id.count()"
   ]
  },
  {
   "cell_type": "code",
   "execution_count": 264,
   "metadata": {},
   "outputs": [
    {
     "data": {
      "text/plain": [
       "best\n",
       "1     937\n",
       "2    1175\n",
       "3    1034\n",
       "4    1303\n",
       "5     214\n",
       "Name: id, dtype: int64"
      ]
     },
     "execution_count": 264,
     "metadata": {},
     "output_type": "execute_result"
    }
   ],
   "source": [
    "sub.groupby('best').id.count()"
   ]
  },
  {
   "cell_type": "code",
   "execution_count": 267,
   "metadata": {},
   "outputs": [],
   "source": [
    "sub[['id', 'BiRads']].to_csv('sub_48.csv', index=False)"
   ]
  },
  {
   "cell_type": "code",
   "execution_count": null,
   "metadata": {},
   "outputs": [],
   "source": []
  },
  {
   "cell_type": "code",
   "execution_count": null,
   "metadata": {},
   "outputs": [],
   "source": []
  },
  {
   "cell_type": "code",
   "execution_count": null,
   "metadata": {},
   "outputs": [],
   "source": []
  },
  {
   "cell_type": "code",
   "execution_count": null,
   "metadata": {},
   "outputs": [],
   "source": []
  },
  {
   "cell_type": "code",
   "execution_count": 624,
   "metadata": {},
   "outputs": [
    {
     "data": {
      "text/plain": [
       "BiRads\n",
       "2    2419\n",
       "3     104\n",
       "4      44\n",
       "5       6\n",
       "Name: laterality, dtype: int64"
      ]
     },
     "execution_count": 624,
     "metadata": {},
     "output_type": "execute_result"
    }
   ],
   "source": [
    "df_train[df_train.BiRads > 3].groupby('BiRads').laterality.count()"
   ]
  },
  {
   "cell_type": "code",
   "execution_count": 625,
   "metadata": {},
   "outputs": [],
   "source": [
    "X = df_train[(df_train.BiRads == 2)|(df_train.BiRads == 3)].drop(['BiRads'], axis=1)\n",
    "\n",
    "y = df_train[(df_train.BiRads == 2)|(df_train.BiRads == 3)].BiRads.copy()"
   ]
  },
  {
   "cell_type": "code",
   "execution_count": 626,
   "metadata": {},
   "outputs": [
    {
     "data": {
      "text/plain": [
       "(2523, 1348)"
      ]
     },
     "execution_count": 626,
     "metadata": {},
     "output_type": "execute_result"
    }
   ],
   "source": [
    "X.shape"
   ]
  },
  {
   "cell_type": "code",
   "execution_count": 627,
   "metadata": {},
   "outputs": [],
   "source": [
    "X_train, X_val, y_train, y_val = train_test_split(X, y.values, \n",
    "                                                  stratify=y, \n",
    "                                                  test_size=0.15)"
   ]
  },
  {
   "cell_type": "code",
   "execution_count": 628,
   "metadata": {},
   "outputs": [
    {
     "name": "stdout",
     "output_type": "stream",
     "text": [
      "Learning rate set to 0.038258\n",
      "0:\tlearn: 0.6358309\ttest: 0.6352425\tbest: 0.6352425 (0)\ttotal: 50.8ms\tremaining: 50.7s\n",
      "100:\tlearn: 0.0946021\ttest: 0.1569576\tbest: 0.1555540 (86)\ttotal: 2.97s\tremaining: 26.5s\n",
      "200:\tlearn: 0.0591299\ttest: 0.1555772\tbest: 0.1554653 (197)\ttotal: 5.78s\tremaining: 23s\n",
      "300:\tlearn: 0.0391343\ttest: 0.1614979\tbest: 0.1554653 (197)\ttotal: 8.55s\tremaining: 19.9s\n",
      "400:\tlearn: 0.0286095\ttest: 0.1661353\tbest: 0.1554653 (197)\ttotal: 11.2s\tremaining: 16.7s\n",
      "Stopped by overfitting detector  (250 iterations wait)\n",
      "\n",
      "bestTest = 0.1554653497\n",
      "bestIteration = 197\n",
      "\n",
      "Shrink model to first 198 iterations.\n"
     ]
    },
    {
     "data": {
      "text/plain": [
       "<catboost.core.CatBoostClassifier at 0x1cf51a880>"
      ]
     },
     "execution_count": 628,
     "metadata": {},
     "output_type": "execute_result"
    }
   ],
   "source": [
    "model = CatBoostClassifier(early_stopping_rounds=250, verbose=100)\n",
    "\n",
    "model.fit(X_train, y_train, eval_set=(X_val, y_val),\n",
    "          cat_features=['laterality']\n",
    "         )"
   ]
  },
  {
   "cell_type": "code",
   "execution_count": 629,
   "metadata": {},
   "outputs": [],
   "source": [
    "preds = model.predict_proba(df_test.iloc[sub[(sub.BiRads != 1)&(sub.BiRads != 4)].index])"
   ]
  },
  {
   "cell_type": "code",
   "execution_count": 631,
   "metadata": {},
   "outputs": [
    {
     "data": {
      "text/plain": [
       "0.22985679712805543"
      ]
     },
     "execution_count": 631,
     "metadata": {},
     "output_type": "execute_result"
    }
   ],
   "source": [
    "preds[:, 1].max()"
   ]
  },
  {
   "cell_type": "code",
   "execution_count": 653,
   "metadata": {},
   "outputs": [],
   "source": [
    "preds_ = []\n",
    "\n",
    "for pred in preds:\n",
    "    \n",
    "    max_pred = np.where(pred == pred.max())[0][0]\n",
    "    \n",
    "    if pred[1] > 0.015:\n",
    "        preds_.append(3)\n",
    "        \n",
    "    else:\n",
    "        preds_.append(2)"
   ]
  },
  {
   "cell_type": "code",
   "execution_count": 654,
   "metadata": {},
   "outputs": [],
   "source": [
    "# preds_ = model.predict(df_test)"
   ]
  },
  {
   "cell_type": "code",
   "execution_count": 655,
   "metadata": {},
   "outputs": [],
   "source": [
    "# sub = pd.read_csv('sample_submit.csv')"
   ]
  },
  {
   "cell_type": "code",
   "execution_count": 656,
   "metadata": {},
   "outputs": [],
   "source": [
    "sub.loc[(sub.BiRads != 1)&(sub.BiRads != 4), 'BiRads'] = preds_\n",
    "# sub['best'] = pd.read_csv('sub_18.csv')['BiRads']"
   ]
  },
  {
   "cell_type": "code",
   "execution_count": 265,
   "metadata": {},
   "outputs": [
    {
     "data": {
      "text/plain": [
       "BiRads\n",
       "1     944\n",
       "2    1783\n",
       "3    1484\n",
       "4     170\n",
       "5     282\n",
       "Name: id, dtype: int64"
      ]
     },
     "execution_count": 265,
     "metadata": {},
     "output_type": "execute_result"
    }
   ],
   "source": [
    "sub.groupby('BiRads').id.count()"
   ]
  },
  {
   "cell_type": "code",
   "execution_count": 266,
   "metadata": {},
   "outputs": [
    {
     "data": {
      "text/plain": [
       "best\n",
       "1     937\n",
       "2    1175\n",
       "3    1034\n",
       "4    1303\n",
       "5     214\n",
       "Name: id, dtype: int64"
      ]
     },
     "execution_count": 266,
     "metadata": {},
     "output_type": "execute_result"
    }
   ],
   "source": [
    "sub.groupby('best').id.count()"
   ]
  },
  {
   "cell_type": "code",
   "execution_count": null,
   "metadata": {},
   "outputs": [],
   "source": []
  },
  {
   "cell_type": "code",
   "execution_count": null,
   "metadata": {},
   "outputs": [],
   "source": []
  },
  {
   "cell_type": "code",
   "execution_count": null,
   "metadata": {},
   "outputs": [],
   "source": []
  },
  {
   "cell_type": "code",
   "execution_count": 659,
   "metadata": {},
   "outputs": [
    {
     "data": {
      "text/plain": [
       "BiRads\n",
       "2    2419\n",
       "3     104\n",
       "4      44\n",
       "5       6\n",
       "Name: laterality, dtype: int64"
      ]
     },
     "execution_count": 659,
     "metadata": {},
     "output_type": "execute_result"
    }
   ],
   "source": [
    "df_train[df_train.BiRads != 1].groupby('BiRads').laterality.count()"
   ]
  },
  {
   "cell_type": "code",
   "execution_count": 660,
   "metadata": {},
   "outputs": [],
   "source": [
    "X = df_train[(df_train.BiRads == 4)|(df_train.BiRads == 5)].drop(['BiRads'], axis=1)\n",
    "\n",
    "y = df_train[(df_train.BiRads == 4)|(df_train.BiRads == 5)].BiRads.copy()"
   ]
  },
  {
   "cell_type": "code",
   "execution_count": 661,
   "metadata": {},
   "outputs": [
    {
     "data": {
      "text/plain": [
       "(50, 1348)"
      ]
     },
     "execution_count": 661,
     "metadata": {},
     "output_type": "execute_result"
    }
   ],
   "source": [
    "X.shape"
   ]
  },
  {
   "cell_type": "code",
   "execution_count": 662,
   "metadata": {},
   "outputs": [],
   "source": [
    "X_train, X_val, y_train, y_val = train_test_split(X, y.values, \n",
    "                                                  stratify=y, \n",
    "                                                  test_size=0.15)"
   ]
  },
  {
   "cell_type": "code",
   "execution_count": 663,
   "metadata": {},
   "outputs": [
    {
     "name": "stdout",
     "output_type": "stream",
     "text": [
      "Learning rate set to 0.014483\n",
      "0:\tlearn: 0.6791379\ttest: 0.6786708\tbest: 0.6786708 (0)\ttotal: 9.9ms\tremaining: 9.89s\n",
      "100:\tlearn: 0.1754472\ttest: 0.4352948\tbest: 0.4352948 (100)\ttotal: 599ms\tremaining: 5.33s\n",
      "200:\tlearn: 0.0783620\ttest: 0.4105160\tbest: 0.4105160 (200)\ttotal: 1.21s\tremaining: 4.8s\n",
      "300:\tlearn: 0.0405787\ttest: 0.4129919\tbest: 0.4021914 (242)\ttotal: 1.97s\tremaining: 4.58s\n",
      "400:\tlearn: 0.0240307\ttest: 0.4356385\tbest: 0.4021914 (242)\ttotal: 2.61s\tremaining: 3.89s\n",
      "Stopped by overfitting detector  (250 iterations wait)\n",
      "\n",
      "bestTest = 0.4021913936\n",
      "bestIteration = 242\n",
      "\n",
      "Shrink model to first 243 iterations.\n"
     ]
    },
    {
     "data": {
      "text/plain": [
       "<catboost.core.CatBoostClassifier at 0x19d37cc70>"
      ]
     },
     "execution_count": 663,
     "metadata": {},
     "output_type": "execute_result"
    }
   ],
   "source": [
    "model = CatBoostClassifier(early_stopping_rounds=250, verbose=100)\n",
    "\n",
    "model.fit(X_train, y_train, eval_set=(X_val, y_val),\n",
    "          cat_features=['laterality']\n",
    "         )"
   ]
  },
  {
   "cell_type": "code",
   "execution_count": 664,
   "metadata": {},
   "outputs": [],
   "source": [
    "preds = model.predict_proba(df_test.iloc[sub[sub.BiRads == 4].index])"
   ]
  },
  {
   "cell_type": "code",
   "execution_count": 665,
   "metadata": {},
   "outputs": [
    {
     "data": {
      "text/plain": [
       "0.36855576839534765"
      ]
     },
     "execution_count": 665,
     "metadata": {},
     "output_type": "execute_result"
    }
   ],
   "source": [
    "preds[:, 1].max()"
   ]
  },
  {
   "cell_type": "code",
   "execution_count": 672,
   "metadata": {},
   "outputs": [],
   "source": [
    "preds_ = []\n",
    "\n",
    "for pred in preds:\n",
    "    \n",
    "    max_pred = np.where(pred == pred.max())[0][0]\n",
    "    \n",
    "    if pred[1] > 0.2:\n",
    "        preds_.append(5)\n",
    "        \n",
    "    else:\n",
    "        preds_.append(4)"
   ]
  },
  {
   "cell_type": "code",
   "execution_count": 673,
   "metadata": {},
   "outputs": [],
   "source": [
    "# preds_ = model.predict(df_test)"
   ]
  },
  {
   "cell_type": "code",
   "execution_count": 674,
   "metadata": {},
   "outputs": [],
   "source": [
    "# sub = pd.read_csv('sample_submit.csv')"
   ]
  },
  {
   "cell_type": "code",
   "execution_count": 675,
   "metadata": {},
   "outputs": [],
   "source": [
    "sub.loc[(sub.BiRads != 1)&(sub.BiRads != 2)&(sub.BiRads != 3), 'BiRads'] = preds_\n",
    "# sub['best'] = pd.read_csv('sub_18.csv')['BiRads']"
   ]
  },
  {
   "cell_type": "code",
   "execution_count": 676,
   "metadata": {},
   "outputs": [
    {
     "data": {
      "text/plain": [
       "BiRads\n",
       "1     841\n",
       "2    1017\n",
       "3    1726\n",
       "4     997\n",
       "5      82\n",
       "Name: id, dtype: int64"
      ]
     },
     "execution_count": 676,
     "metadata": {},
     "output_type": "execute_result"
    }
   ],
   "source": [
    "sub.groupby('BiRads').id.count()"
   ]
  },
  {
   "cell_type": "code",
   "execution_count": 677,
   "metadata": {},
   "outputs": [
    {
     "data": {
      "text/plain": [
       "best\n",
       "1     937\n",
       "2    1175\n",
       "3    1034\n",
       "4    1303\n",
       "5     214\n",
       "Name: id, dtype: int64"
      ]
     },
     "execution_count": 677,
     "metadata": {},
     "output_type": "execute_result"
    }
   ],
   "source": [
    "sub.groupby('best').id.count()"
   ]
  },
  {
   "cell_type": "code",
   "execution_count": 678,
   "metadata": {},
   "outputs": [],
   "source": [
    "sub[['id', 'BiRads']].to_csv('sub_32.csv', index=False)"
   ]
  },
  {
   "cell_type": "code",
   "execution_count": null,
   "metadata": {},
   "outputs": [],
   "source": []
  },
  {
   "cell_type": "code",
   "execution_count": null,
   "metadata": {},
   "outputs": [],
   "source": []
  }
 ],
 "metadata": {
  "kernelspec": {
   "display_name": "Python 3 (ipykernel)",
   "language": "python",
   "name": "python3"
  },
  "language_info": {
   "codemirror_mode": {
    "name": "ipython",
    "version": 3
   },
   "file_extension": ".py",
   "mimetype": "text/x-python",
   "name": "python",
   "nbconvert_exporter": "python",
   "pygments_lexer": "ipython3",
   "version": "3.9.5"
  }
 },
 "nbformat": 4,
 "nbformat_minor": 4
}
